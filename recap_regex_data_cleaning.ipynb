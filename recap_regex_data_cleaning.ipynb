{
  "nbformat": 4,
  "nbformat_minor": 0,
  "metadata": {
    "colab": {
      "provenance": [],
      "collapsed_sections": [],
      "mount_file_id": "1SJcMGQXcNUkOCZj_Uc0mTqoAYERiztkN",
      "authorship_tag": "ABX9TyMOeKynOdL2XQNglR8Lfhom",
      "include_colab_link": true
    },
    "kernelspec": {
      "name": "python3",
      "display_name": "Python 3"
    },
    "language_info": {
      "name": "python"
    }
  },
  "cells": [
    {
      "cell_type": "markdown",
      "metadata": {
        "id": "view-in-github",
        "colab_type": "text"
      },
      "source": [
        "<a href=\"https://colab.research.google.com/github/GraceUmutesi/NLP-fellowship-assignment/blob/main/recap_regex_data_cleaning.ipynb\" target=\"_parent\"><img src=\"https://colab.research.google.com/assets/colab-badge.svg\" alt=\"Open In Colab\"/></a>"
      ]
    },
    {
      "cell_type": "code",
      "execution_count": 1,
      "metadata": {
        "id": "Dh_ihohPM4Cj"
      },
      "outputs": [],
      "source": [
        "import pandas as pd"
      ]
    },
    {
      "cell_type": "code",
      "source": [
        "df = pd.read_csv('/content/drive/MyDrive/NLP fellowship/assignments/week2/day1/Eng_Kin-Paralleldata (1).csv')"
      ],
      "metadata": {
        "id": "1Itw7CexnHrb"
      },
      "execution_count": 2,
      "outputs": []
    },
    {
      "cell_type": "code",
      "source": [
        "df.head()"
      ],
      "metadata": {
        "colab": {
          "base_uri": "https://localhost:8080/",
          "height": 337
        },
        "id": "RVNNPT9aoMsc",
        "outputId": "1d1a2955-b1f3-455d-c345-e07aca1aac54"
      },
      "execution_count": 7,
      "outputs": [
        {
          "output_type": "execute_result",
          "data": {
            "text/plain": [
              "            ID                                            English  \\\n",
              "0  ID_IFVTMXW8        F_all back to threading messages by subject   \n",
              "1  ID_SBXUPXE3  You will have to restart GIMP for the followin...   \n",
              "2  ID_ZOCZ3PXQ  The radio button whose group this widget belon...   \n",
              "3  ID_6AVBJ1YS           Print all subdirectories in a directory.   \n",
              "4  ID_FW4V44WK  Paste the contents of the clipboard as a new i...   \n",
              "\n",
              "                                         Kinyarwanda  \\\n",
              "0                 Inyuma Kuri Ubutumwa ku Ikivugwaho   \n",
              "1  Kuri Ongera utangire kugirango i Amahinduka Ku...   \n",
              "2                       Akabuto bya Itsinda iyi Kuri   \n",
              "3          Byose Ububiko bwungirije in a bushyinguro   \n",
              "4  i Ibigize Bya i Ububikokoporora Nka A Gishya I...   \n",
              "\n",
              "                                             english  \n",
              "0        f_all back to threading messages by subject  \n",
              "1  you will have to restart gimp for the followin...  \n",
              "2  the radio button whose group this widget belon...  \n",
              "3           print all subdirectories in a directory.  \n",
              "4  paste the contents of the clipboard as a new i...  "
            ],
            "text/html": [
              "\n",
              "  <div id=\"df-283ae6ee-f7b0-41af-a65d-55ed26faed5c\">\n",
              "    <div class=\"colab-df-container\">\n",
              "      <div>\n",
              "<style scoped>\n",
              "    .dataframe tbody tr th:only-of-type {\n",
              "        vertical-align: middle;\n",
              "    }\n",
              "\n",
              "    .dataframe tbody tr th {\n",
              "        vertical-align: top;\n",
              "    }\n",
              "\n",
              "    .dataframe thead th {\n",
              "        text-align: right;\n",
              "    }\n",
              "</style>\n",
              "<table border=\"1\" class=\"dataframe\">\n",
              "  <thead>\n",
              "    <tr style=\"text-align: right;\">\n",
              "      <th></th>\n",
              "      <th>ID</th>\n",
              "      <th>English</th>\n",
              "      <th>Kinyarwanda</th>\n",
              "      <th>english</th>\n",
              "    </tr>\n",
              "  </thead>\n",
              "  <tbody>\n",
              "    <tr>\n",
              "      <th>0</th>\n",
              "      <td>ID_IFVTMXW8</td>\n",
              "      <td>F_all back to threading messages by subject</td>\n",
              "      <td>Inyuma Kuri Ubutumwa ku Ikivugwaho</td>\n",
              "      <td>f_all back to threading messages by subject</td>\n",
              "    </tr>\n",
              "    <tr>\n",
              "      <th>1</th>\n",
              "      <td>ID_SBXUPXE3</td>\n",
              "      <td>You will have to restart GIMP for the followin...</td>\n",
              "      <td>Kuri Ongera utangire kugirango i Amahinduka Ku...</td>\n",
              "      <td>you will have to restart gimp for the followin...</td>\n",
              "    </tr>\n",
              "    <tr>\n",
              "      <th>2</th>\n",
              "      <td>ID_ZOCZ3PXQ</td>\n",
              "      <td>The radio button whose group this widget belon...</td>\n",
              "      <td>Akabuto bya Itsinda iyi Kuri</td>\n",
              "      <td>the radio button whose group this widget belon...</td>\n",
              "    </tr>\n",
              "    <tr>\n",
              "      <th>3</th>\n",
              "      <td>ID_6AVBJ1YS</td>\n",
              "      <td>Print all subdirectories in a directory.</td>\n",
              "      <td>Byose Ububiko bwungirije in a bushyinguro</td>\n",
              "      <td>print all subdirectories in a directory.</td>\n",
              "    </tr>\n",
              "    <tr>\n",
              "      <th>4</th>\n",
              "      <td>ID_FW4V44WK</td>\n",
              "      <td>Paste the contents of the clipboard as a new i...</td>\n",
              "      <td>i Ibigize Bya i Ububikokoporora Nka A Gishya I...</td>\n",
              "      <td>paste the contents of the clipboard as a new i...</td>\n",
              "    </tr>\n",
              "  </tbody>\n",
              "</table>\n",
              "</div>\n",
              "      <button class=\"colab-df-convert\" onclick=\"convertToInteractive('df-283ae6ee-f7b0-41af-a65d-55ed26faed5c')\"\n",
              "              title=\"Convert this dataframe to an interactive table.\"\n",
              "              style=\"display:none;\">\n",
              "        \n",
              "  <svg xmlns=\"http://www.w3.org/2000/svg\" height=\"24px\"viewBox=\"0 0 24 24\"\n",
              "       width=\"24px\">\n",
              "    <path d=\"M0 0h24v24H0V0z\" fill=\"none\"/>\n",
              "    <path d=\"M18.56 5.44l.94 2.06.94-2.06 2.06-.94-2.06-.94-.94-2.06-.94 2.06-2.06.94zm-11 1L8.5 8.5l.94-2.06 2.06-.94-2.06-.94L8.5 2.5l-.94 2.06-2.06.94zm10 10l.94 2.06.94-2.06 2.06-.94-2.06-.94-.94-2.06-.94 2.06-2.06.94z\"/><path d=\"M17.41 7.96l-1.37-1.37c-.4-.4-.92-.59-1.43-.59-.52 0-1.04.2-1.43.59L10.3 9.45l-7.72 7.72c-.78.78-.78 2.05 0 2.83L4 21.41c.39.39.9.59 1.41.59.51 0 1.02-.2 1.41-.59l7.78-7.78 2.81-2.81c.8-.78.8-2.07 0-2.86zM5.41 20L4 18.59l7.72-7.72 1.47 1.35L5.41 20z\"/>\n",
              "  </svg>\n",
              "      </button>\n",
              "      \n",
              "  <style>\n",
              "    .colab-df-container {\n",
              "      display:flex;\n",
              "      flex-wrap:wrap;\n",
              "      gap: 12px;\n",
              "    }\n",
              "\n",
              "    .colab-df-convert {\n",
              "      background-color: #E8F0FE;\n",
              "      border: none;\n",
              "      border-radius: 50%;\n",
              "      cursor: pointer;\n",
              "      display: none;\n",
              "      fill: #1967D2;\n",
              "      height: 32px;\n",
              "      padding: 0 0 0 0;\n",
              "      width: 32px;\n",
              "    }\n",
              "\n",
              "    .colab-df-convert:hover {\n",
              "      background-color: #E2EBFA;\n",
              "      box-shadow: 0px 1px 2px rgba(60, 64, 67, 0.3), 0px 1px 3px 1px rgba(60, 64, 67, 0.15);\n",
              "      fill: #174EA6;\n",
              "    }\n",
              "\n",
              "    [theme=dark] .colab-df-convert {\n",
              "      background-color: #3B4455;\n",
              "      fill: #D2E3FC;\n",
              "    }\n",
              "\n",
              "    [theme=dark] .colab-df-convert:hover {\n",
              "      background-color: #434B5C;\n",
              "      box-shadow: 0px 1px 3px 1px rgba(0, 0, 0, 0.15);\n",
              "      filter: drop-shadow(0px 1px 2px rgba(0, 0, 0, 0.3));\n",
              "      fill: #FFFFFF;\n",
              "    }\n",
              "  </style>\n",
              "\n",
              "      <script>\n",
              "        const buttonEl =\n",
              "          document.querySelector('#df-283ae6ee-f7b0-41af-a65d-55ed26faed5c button.colab-df-convert');\n",
              "        buttonEl.style.display =\n",
              "          google.colab.kernel.accessAllowed ? 'block' : 'none';\n",
              "\n",
              "        async function convertToInteractive(key) {\n",
              "          const element = document.querySelector('#df-283ae6ee-f7b0-41af-a65d-55ed26faed5c');\n",
              "          const dataTable =\n",
              "            await google.colab.kernel.invokeFunction('convertToInteractive',\n",
              "                                                     [key], {});\n",
              "          if (!dataTable) return;\n",
              "\n",
              "          const docLinkHtml = 'Like what you see? Visit the ' +\n",
              "            '<a target=\"_blank\" href=https://colab.research.google.com/notebooks/data_table.ipynb>data table notebook</a>'\n",
              "            + ' to learn more about interactive tables.';\n",
              "          element.innerHTML = '';\n",
              "          dataTable['output_type'] = 'display_data';\n",
              "          await google.colab.output.renderOutput(dataTable, element);\n",
              "          const docLink = document.createElement('div');\n",
              "          docLink.innerHTML = docLinkHtml;\n",
              "          element.appendChild(docLink);\n",
              "        }\n",
              "      </script>\n",
              "    </div>\n",
              "  </div>\n",
              "  "
            ]
          },
          "metadata": {},
          "execution_count": 7
        }
      ]
    },
    {
      "cell_type": "code",
      "source": [
        "del df['ID']"
      ],
      "metadata": {
        "id": "xekxir-Gn-fM"
      },
      "execution_count": null,
      "outputs": []
    },
    {
      "cell_type": "code",
      "source": [
        "list(df.columns)"
      ],
      "metadata": {
        "id": "4BqZngVLoGWL"
      },
      "execution_count": null,
      "outputs": []
    },
    {
      "cell_type": "code",
      "source": [
        "# convert all the syntax into lower case but this is for few columns\n",
        "df['english'] = df['English'].astype('str').str.lower()\n",
        "df['kinyarwanda'] = df['Kinyarwanda'].astype('str').str.lower()\n"
      ],
      "metadata": {
        "id": "Ev3MznKXoitq"
      },
      "execution_count": 8,
      "outputs": []
    },
    {
      "cell_type": "code",
      "source": [
        "# when we have many columns\n",
        "# cols=list(df.columns)\n",
        "# for col in cols:\n",
        "#   try:\n",
        "#     df[col]=df[col].astype('str').str.lower()\n",
        "#   except TypeError:#handles errors if the column data tyoe can not be converted into string\n",
        "#     pass"
      ],
      "metadata": {
        "id": "6-t44JP1qJiX"
      },
      "execution_count": null,
      "outputs": []
    }
  ]
}