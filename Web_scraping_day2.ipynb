{
  "cells": [
    {
      "cell_type": "markdown",
      "metadata": {
        "id": "view-in-github",
        "colab_type": "text"
      },
      "source": [
        "<a href=\"https://colab.research.google.com/github/GraceUmutesi/NLP-fellowship-assignment/blob/main/Web_scraping_day2.ipynb\" target=\"_parent\"><img src=\"https://colab.research.google.com/assets/colab-badge.svg\" alt=\"Open In Colab\"/></a>"
      ]
    },
    {
      "cell_type": "markdown",
      "metadata": {
        "id": "5KlsBLBOnm4P"
      },
      "source": [
        "# Working with HTML\n",
        "There is a lot of data that can be found in the internet. To get the data, there are two techniques:\n",
        "\n",
        "\n",
        "*   Web scrapping - Extracting underlying data found in HTML code and store in a new file format\n",
        "*   web crawling - Use of bots to process different url links, get the data from all the pages and store the data in websites. e.g Google, Bing\n",
        "\n"
      ]
    },
    {
      "cell_type": "markdown",
      "metadata": {
        "id": "ywhU8i1wxfUL"
      },
      "source": [
        "## Web Scrapping\n",
        "In this session, we will be looking at web scrapping. We will be examining news websites and look at how to extract the articles. \n",
        "\n",
        "We will use a python package called BEAUTIFULSOUP.\n",
        "\n",
        "`pip install beautifulsoup4`\n",
        "\n",
        "To import the package:\n",
        "\n",
        "`from bs4 import BeautifulSoup`"
      ]
    },
    {
      "cell_type": "code",
      "execution_count": 1,
      "metadata": {
        "id": "iWo1bwZy5YTJ"
      },
      "outputs": [],
      "source": [
        "from bs4 import BeautifulSoup"
      ]
    },
    {
      "cell_type": "code",
      "execution_count": 2,
      "metadata": {
        "id": "MKImE-dG5ZuA"
      },
      "outputs": [],
      "source": [
        "html_doc = \"\"\"<html><head><title>The Dormouse's story</title></head>\n",
        "<body>\n",
        "<p class=\"title\"><b>The Dormouse's story</b></p>\n",
        "\n",
        "<p class=\"story\">Once upon a time there were three little sisters; and their names were\n",
        "<a href=\"http://example.com/elsie\" class=\"sister\" id=\"link1\">Elsie</a>,\n",
        "<a href=\"http://example.com/lacie\" class=\"sister\" id=\"link2\">Lacie</a> and\n",
        "<a href=\"http://example.com/tillie\" class=\"sister\" id=\"link3\">Tillie</a>;\n",
        "and they lived at the bottom of a well.</p>\n",
        "\n",
        "<p class=\"story\">...</p>\n",
        "\"\"\""
      ]
    },
    {
      "cell_type": "code",
      "execution_count": 3,
      "metadata": {
        "id": "vzmMOyZh7NWK",
        "colab": {
          "base_uri": "https://localhost:8080/"
        },
        "outputId": "955e7dcf-fe4f-4b42-b8ad-3823fdb40d57"
      },
      "outputs": [
        {
          "output_type": "stream",
          "name": "stdout",
          "text": [
            "<html>\n",
            " <head>\n",
            "  <title>\n",
            "   The Dormouse's story\n",
            "  </title>\n",
            " </head>\n",
            " <body>\n",
            "  <p class=\"title\">\n",
            "   <b>\n",
            "    The Dormouse's story\n",
            "   </b>\n",
            "  </p>\n",
            "  <p class=\"story\">\n",
            "   Once upon a time there were three little sisters; and their names were\n",
            "   <a class=\"sister\" href=\"http://example.com/elsie\" id=\"link1\">\n",
            "    Elsie\n",
            "   </a>\n",
            "   ,\n",
            "   <a class=\"sister\" href=\"http://example.com/lacie\" id=\"link2\">\n",
            "    Lacie\n",
            "   </a>\n",
            "   and\n",
            "   <a class=\"sister\" href=\"http://example.com/tillie\" id=\"link3\">\n",
            "    Tillie\n",
            "   </a>\n",
            "   ;\n",
            "and they lived at the bottom of a well.\n",
            "  </p>\n",
            "  <p class=\"story\">\n",
            "   ...\n",
            "  </p>\n",
            " </body>\n",
            "</html>\n"
          ]
        }
      ],
      "source": [
        "# Read the html doc\n",
        "soup = BeautifulSoup(html_doc, 'html.parser')\n",
        "print(soup.prettify())"
      ]
    },
    {
      "cell_type": "code",
      "execution_count": 4,
      "metadata": {
        "colab": {
          "base_uri": "https://localhost:8080/"
        },
        "id": "pSdm1syw8UdA",
        "outputId": "b8b7b8b0-7fb6-4151-d7a7-be0a4f5d8143"
      },
      "outputs": [
        {
          "output_type": "execute_result",
          "data": {
            "text/plain": [
              "<head><title>The Dormouse's story</title></head>"
            ]
          },
          "metadata": {},
          "execution_count": 4
        }
      ],
      "source": [
        "soup.head"
      ]
    },
    {
      "cell_type": "code",
      "execution_count": 5,
      "metadata": {
        "colab": {
          "base_uri": "https://localhost:8080/"
        },
        "id": "kthGPmUHAFD-",
        "outputId": "e34c143e-da26-46b3-a2bf-d32bed680920"
      },
      "outputs": [
        {
          "output_type": "execute_result",
          "data": {
            "text/plain": [
              "<body>\n",
              "<p class=\"title\"><b>The Dormouse's story</b></p>\n",
              "<p class=\"story\">Once upon a time there were three little sisters; and their names were\n",
              "<a class=\"sister\" href=\"http://example.com/elsie\" id=\"link1\">Elsie</a>,\n",
              "<a class=\"sister\" href=\"http://example.com/lacie\" id=\"link2\">Lacie</a> and\n",
              "<a class=\"sister\" href=\"http://example.com/tillie\" id=\"link3\">Tillie</a>;\n",
              "and they lived at the bottom of a well.</p>\n",
              "<p class=\"story\">...</p>\n",
              "</body>"
            ]
          },
          "metadata": {},
          "execution_count": 5
        }
      ],
      "source": [
        "soup.body"
      ]
    },
    {
      "cell_type": "code",
      "execution_count": null,
      "metadata": {
        "id": "T1UFQca0AIkE"
      },
      "outputs": [],
      "source": [
        "mainbody = soup.body"
      ]
    },
    {
      "cell_type": "code",
      "execution_count": null,
      "metadata": {
        "colab": {
          "base_uri": "https://localhost:8080/"
        },
        "id": "srWb7E3qAwel",
        "outputId": "2846b451-964d-4858-f074-63438469f400"
      },
      "outputs": [
        {
          "data": {
            "text/plain": [
              "<p class=\"title\"><b>The Dormouse's story</b></p>"
            ]
          },
          "execution_count": 9,
          "metadata": {},
          "output_type": "execute_result"
        }
      ],
      "source": [
        "# find a particular tag\n",
        "soup.find('p')"
      ]
    },
    {
      "cell_type": "code",
      "execution_count": 6,
      "metadata": {
        "id": "8z-UllyaC6_n",
        "colab": {
          "base_uri": "https://localhost:8080/"
        },
        "outputId": "fb30178c-b336-4548-d7b8-1df2fc19f54f"
      },
      "outputs": [
        {
          "output_type": "execute_result",
          "data": {
            "text/plain": [
              "[<p class=\"title\"><b>The Dormouse's story</b></p>,\n",
              " <p class=\"story\">Once upon a time there were three little sisters; and their names were\n",
              " <a class=\"sister\" href=\"http://example.com/elsie\" id=\"link1\">Elsie</a>,\n",
              " <a class=\"sister\" href=\"http://example.com/lacie\" id=\"link2\">Lacie</a> and\n",
              " <a class=\"sister\" href=\"http://example.com/tillie\" id=\"link3\">Tillie</a>;\n",
              " and they lived at the bottom of a well.</p>,\n",
              " <p class=\"story\">...</p>]"
            ]
          },
          "metadata": {},
          "execution_count": 6
        }
      ],
      "source": [
        "# find all p\n",
        "soup.find_all('p')"
      ]
    },
    {
      "cell_type": "code",
      "execution_count": null,
      "metadata": {
        "colab": {
          "base_uri": "https://localhost:8080/",
          "height": 35
        },
        "id": "LOYEenAzDGjd",
        "outputId": "ea73a4ff-6915-4cfc-837c-4f8991ad2e2c"
      },
      "outputs": [
        {
          "data": {
            "application/vnd.google.colaboratory.intrinsic+json": {
              "type": "string"
            },
            "text/plain": [
              "\"The Dormouse's story\""
            ]
          },
          "execution_count": 11,
          "metadata": {},
          "output_type": "execute_result"
        }
      ],
      "source": [
        "# get the text\n",
        "soup.find('p').get_text()"
      ]
    },
    {
      "cell_type": "code",
      "execution_count": 7,
      "metadata": {
        "colab": {
          "base_uri": "https://localhost:8080/"
        },
        "id": "ash0Mdn6DX8l",
        "outputId": "59479a41-a510-457a-f495-f5d03b6326bc"
      },
      "outputs": [
        {
          "output_type": "execute_result",
          "data": {
            "text/plain": [
              "['Elsie', 'Lacie', 'Tillie']"
            ]
          },
          "metadata": {},
          "execution_count": 7
        }
      ],
      "source": [
        "# loop through tag to get the text\n",
        "sisters = soup.find_all('a', class_='sister')\n",
        "\n",
        "[a.getText() for a in sisters]"
      ]
    },
    {
      "cell_type": "markdown",
      "metadata": {
        "id": "XhfN4trZGD9g"
      },
      "source": [
        "### Practicle example\n",
        "Website - English Premier League ResultDB\n",
        "\n",
        "**URL** - http://www.resultdb.com/english-premier-league-tables/\n",
        "\n",
        "**Goal**: *Get the aggregated details of each team for a particular season* \n"
      ]
    },
    {
      "cell_type": "code",
      "execution_count": 8,
      "metadata": {
        "id": "MCY5RBjIFVAl"
      },
      "outputs": [],
      "source": [
        "import requests\n",
        "import pandas as pd\n",
        "\n",
        "year = '2000'\n",
        "page = requests.get(\"http://www.resultdb.com/english-premier-league-tables/\"+year+\"/\")\n",
        "maindetails = BeautifulSoup(page.text,'html.parser')\n",
        "\n",
        "# soup = BeautifulSoup(page.text,'lxml')\n",
        "# table = soup.find('table')\n",
        "\n",
        "# data = []\n",
        "# rows = table.find_all('tr')\n",
        "# for row in rows:\n",
        "#     cols = row.find_all('td')\n",
        "#     cols = [ele.text.strip() for ele in cols]\n",
        "#     data.append([ele for ele in cols if ele]) # Get rid of empty values\n",
        "\n",
        "# columns= ['position','team name','games','won','draw','lost','goal scored','goals conceded','goal difference','points']\n",
        "# season = pd.DataFrame(data[1:],columns=columns)"
      ]
    },
    {
      "cell_type": "code",
      "execution_count": null,
      "metadata": {
        "id": "a2BqcIzgC9aO"
      },
      "outputs": [],
      "source": [
        "print(maindetails.prettify())"
      ]
    },
    {
      "cell_type": "code",
      "execution_count": 9,
      "metadata": {
        "id": "eAb1s552Rss4"
      },
      "outputs": [],
      "source": [
        "# The details are in the table tag. Find the table\n",
        "table = maindetails.find('table')\n",
        "\n",
        "# Table has rows. Get all the table rows. the result will be a list\n",
        "rows = table.find_all('tr')\n",
        "\n"
      ]
    },
    {
      "cell_type": "code",
      "execution_count": 10,
      "metadata": {
        "id": "-Eo5IIL_Tkxx"
      },
      "outputs": [],
      "source": [
        "# Get the details in each row\n",
        "# Loop through each row\n",
        "data =[]\n",
        "all_details = []\n",
        "for row in rows:\n",
        "  details = row.find_all('td')\n",
        "  \n",
        "\n",
        "  cols = [ele.text.strip() for ele in details]\n",
        "  data.append([ele for ele in cols if ele])  # Get rid of empty values\n",
        "\n",
        "\n"
      ]
    },
    {
      "cell_type": "code",
      "execution_count": 11,
      "metadata": {
        "id": "5vw857L1USD3"
      },
      "outputs": [],
      "source": [
        "# Create a dataframe where the data will be placed and processed\n",
        "columns= ['position','team name','games','won','draw','lost','goal scored','goals conceded','goal difference','points']\n",
        "season = pd.DataFrame(data[1:],columns=columns)"
      ]
    },
    {
      "cell_type": "code",
      "execution_count": null,
      "metadata": {
        "colab": {
          "base_uri": "https://localhost:8080/",
          "height": 206
        },
        "id": "bJ02wcrnQo48",
        "outputId": "4d68a1c5-30eb-4ce2-8d20-d9cda9671726"
      },
      "outputs": [
        {
          "data": {
            "text/html": [
              "\n",
              "  <div id=\"df-28a8644d-17a6-4302-8afe-e9d116fafab0\">\n",
              "    <div class=\"colab-df-container\">\n",
              "      <div>\n",
              "<style scoped>\n",
              "    .dataframe tbody tr th:only-of-type {\n",
              "        vertical-align: middle;\n",
              "    }\n",
              "\n",
              "    .dataframe tbody tr th {\n",
              "        vertical-align: top;\n",
              "    }\n",
              "\n",
              "    .dataframe thead th {\n",
              "        text-align: right;\n",
              "    }\n",
              "</style>\n",
              "<table border=\"1\" class=\"dataframe\">\n",
              "  <thead>\n",
              "    <tr style=\"text-align: right;\">\n",
              "      <th></th>\n",
              "      <th>position</th>\n",
              "      <th>team name</th>\n",
              "      <th>games</th>\n",
              "      <th>won</th>\n",
              "      <th>draw</th>\n",
              "      <th>lost</th>\n",
              "      <th>goal scored</th>\n",
              "      <th>goals conceded</th>\n",
              "      <th>goal difference</th>\n",
              "      <th>points</th>\n",
              "    </tr>\n",
              "  </thead>\n",
              "  <tbody>\n",
              "    <tr>\n",
              "      <th>0</th>\n",
              "      <td>1</td>\n",
              "      <td>Manchester United</td>\n",
              "      <td>38</td>\n",
              "      <td>24</td>\n",
              "      <td>8</td>\n",
              "      <td>6</td>\n",
              "      <td>79</td>\n",
              "      <td>31</td>\n",
              "      <td>+48</td>\n",
              "      <td>80 pts</td>\n",
              "    </tr>\n",
              "    <tr>\n",
              "      <th>1</th>\n",
              "      <td>2</td>\n",
              "      <td>Arsenal</td>\n",
              "      <td>38</td>\n",
              "      <td>20</td>\n",
              "      <td>10</td>\n",
              "      <td>8</td>\n",
              "      <td>63</td>\n",
              "      <td>38</td>\n",
              "      <td>+25</td>\n",
              "      <td>70 pts</td>\n",
              "    </tr>\n",
              "    <tr>\n",
              "      <th>2</th>\n",
              "      <td>3</td>\n",
              "      <td>Liverpool</td>\n",
              "      <td>38</td>\n",
              "      <td>20</td>\n",
              "      <td>9</td>\n",
              "      <td>9</td>\n",
              "      <td>71</td>\n",
              "      <td>39</td>\n",
              "      <td>+32</td>\n",
              "      <td>69 pts</td>\n",
              "    </tr>\n",
              "    <tr>\n",
              "      <th>3</th>\n",
              "      <td>4</td>\n",
              "      <td>Leeds</td>\n",
              "      <td>38</td>\n",
              "      <td>20</td>\n",
              "      <td>8</td>\n",
              "      <td>10</td>\n",
              "      <td>64</td>\n",
              "      <td>43</td>\n",
              "      <td>+21</td>\n",
              "      <td>68 pts</td>\n",
              "    </tr>\n",
              "    <tr>\n",
              "      <th>4</th>\n",
              "      <td>5</td>\n",
              "      <td>Ipswich Town</td>\n",
              "      <td>38</td>\n",
              "      <td>20</td>\n",
              "      <td>6</td>\n",
              "      <td>12</td>\n",
              "      <td>57</td>\n",
              "      <td>42</td>\n",
              "      <td>+15</td>\n",
              "      <td>66 pts</td>\n",
              "    </tr>\n",
              "  </tbody>\n",
              "</table>\n",
              "</div>\n",
              "      <button class=\"colab-df-convert\" onclick=\"convertToInteractive('df-28a8644d-17a6-4302-8afe-e9d116fafab0')\"\n",
              "              title=\"Convert this dataframe to an interactive table.\"\n",
              "              style=\"display:none;\">\n",
              "        \n",
              "  <svg xmlns=\"http://www.w3.org/2000/svg\" height=\"24px\"viewBox=\"0 0 24 24\"\n",
              "       width=\"24px\">\n",
              "    <path d=\"M0 0h24v24H0V0z\" fill=\"none\"/>\n",
              "    <path d=\"M18.56 5.44l.94 2.06.94-2.06 2.06-.94-2.06-.94-.94-2.06-.94 2.06-2.06.94zm-11 1L8.5 8.5l.94-2.06 2.06-.94-2.06-.94L8.5 2.5l-.94 2.06-2.06.94zm10 10l.94 2.06.94-2.06 2.06-.94-2.06-.94-.94-2.06-.94 2.06-2.06.94z\"/><path d=\"M17.41 7.96l-1.37-1.37c-.4-.4-.92-.59-1.43-.59-.52 0-1.04.2-1.43.59L10.3 9.45l-7.72 7.72c-.78.78-.78 2.05 0 2.83L4 21.41c.39.39.9.59 1.41.59.51 0 1.02-.2 1.41-.59l7.78-7.78 2.81-2.81c.8-.78.8-2.07 0-2.86zM5.41 20L4 18.59l7.72-7.72 1.47 1.35L5.41 20z\"/>\n",
              "  </svg>\n",
              "      </button>\n",
              "      \n",
              "  <style>\n",
              "    .colab-df-container {\n",
              "      display:flex;\n",
              "      flex-wrap:wrap;\n",
              "      gap: 12px;\n",
              "    }\n",
              "\n",
              "    .colab-df-convert {\n",
              "      background-color: #E8F0FE;\n",
              "      border: none;\n",
              "      border-radius: 50%;\n",
              "      cursor: pointer;\n",
              "      display: none;\n",
              "      fill: #1967D2;\n",
              "      height: 32px;\n",
              "      padding: 0 0 0 0;\n",
              "      width: 32px;\n",
              "    }\n",
              "\n",
              "    .colab-df-convert:hover {\n",
              "      background-color: #E2EBFA;\n",
              "      box-shadow: 0px 1px 2px rgba(60, 64, 67, 0.3), 0px 1px 3px 1px rgba(60, 64, 67, 0.15);\n",
              "      fill: #174EA6;\n",
              "    }\n",
              "\n",
              "    [theme=dark] .colab-df-convert {\n",
              "      background-color: #3B4455;\n",
              "      fill: #D2E3FC;\n",
              "    }\n",
              "\n",
              "    [theme=dark] .colab-df-convert:hover {\n",
              "      background-color: #434B5C;\n",
              "      box-shadow: 0px 1px 3px 1px rgba(0, 0, 0, 0.15);\n",
              "      filter: drop-shadow(0px 1px 2px rgba(0, 0, 0, 0.3));\n",
              "      fill: #FFFFFF;\n",
              "    }\n",
              "  </style>\n",
              "\n",
              "      <script>\n",
              "        const buttonEl =\n",
              "          document.querySelector('#df-28a8644d-17a6-4302-8afe-e9d116fafab0 button.colab-df-convert');\n",
              "        buttonEl.style.display =\n",
              "          google.colab.kernel.accessAllowed ? 'block' : 'none';\n",
              "\n",
              "        async function convertToInteractive(key) {\n",
              "          const element = document.querySelector('#df-28a8644d-17a6-4302-8afe-e9d116fafab0');\n",
              "          const dataTable =\n",
              "            await google.colab.kernel.invokeFunction('convertToInteractive',\n",
              "                                                     [key], {});\n",
              "          if (!dataTable) return;\n",
              "\n",
              "          const docLinkHtml = 'Like what you see? Visit the ' +\n",
              "            '<a target=\"_blank\" href=https://colab.research.google.com/notebooks/data_table.ipynb>data table notebook</a>'\n",
              "            + ' to learn more about interactive tables.';\n",
              "          element.innerHTML = '';\n",
              "          dataTable['output_type'] = 'display_data';\n",
              "          await google.colab.output.renderOutput(dataTable, element);\n",
              "          const docLink = document.createElement('div');\n",
              "          docLink.innerHTML = docLinkHtml;\n",
              "          element.appendChild(docLink);\n",
              "        }\n",
              "      </script>\n",
              "    </div>\n",
              "  </div>\n",
              "  "
            ],
            "text/plain": [
              "  position          team name games won draw lost goal scored goals conceded  \\\n",
              "0        1  Manchester United    38  24    8    6          79             31   \n",
              "1        2            Arsenal    38  20   10    8          63             38   \n",
              "2        3          Liverpool    38  20    9    9          71             39   \n",
              "3        4              Leeds    38  20    8   10          64             43   \n",
              "4        5       Ipswich Town    38  20    6   12          57             42   \n",
              "\n",
              "  goal difference  points  \n",
              "0             +48  80 pts  \n",
              "1             +25  70 pts  \n",
              "2             +32  69 pts  \n",
              "3             +21  68 pts  \n",
              "4             +15  66 pts  "
            ]
          },
          "execution_count": 11,
          "metadata": {},
          "output_type": "execute_result"
        }
      ],
      "source": [
        "season.head()"
      ]
    },
    {
      "cell_type": "code",
      "execution_count": null,
      "metadata": {
        "id": "8aNOuHQSQwG9"
      },
      "outputs": [],
      "source": [
        "# TODO convert the above to a function. Then get the details from 2000-2015, place all the details in one dataframe, add a column called season\n",
        "# ENTER CODE HERE"
      ]
    },
    {
      "cell_type": "markdown",
      "metadata": {
        "id": "Ls2ZPt8eWEAc"
      },
      "source": [
        "## Assignment\n",
        "Based on the above, get the main articles from igihe from February 2022 - present\n",
        "\n",
        "Steps to do this\n",
        "\n",
        "\n",
        "1.   Get the links to the main pages from january. Create a list\n",
        "2.   In each link, get all the links to the main articles\n",
        "3.   For each article, get the main tag that holds the texts\n",
        "4.   Get the text and store them in a txt file. The data will be used in week 2\n",
        "5.   Each article its own txt file. Naming is the date_article_1\n",
        "\n"
      ]
    },
    {
      "cell_type": "code",
      "execution_count": 12,
      "metadata": {
        "id": "aI1aHQf2NRMY"
      },
      "outputs": [],
      "source": [
        "from bs4 import BeautifulSoup as bs\n",
        "import pandas as pd\n",
        "import requests\n",
        "\n",
        "# web_link_response=requests.get('https://web.archive.org/web/20220201025803/https://www.igihe.com/')\n",
        "# web_data=bs(web_link_response.text,'html.parser')\n",
        "# print(web_data.prettify())\n",
        "# the_articles=web_data.find_all(class_='homenews')\n",
        "\n"
      ]
    },
    {
      "cell_type": "code",
      "execution_count": null,
      "metadata": {
        "id": "RoWJDNDL051_"
      },
      "outputs": [],
      "source": [
        "links= requests.get ('https://web.archive.org/wayback/available?url=igihe.com&timestamp=20220123')\n",
        "# wayback api https://archive.org/help/wayback_api.php \n",
        "# print(links.json()['archived_snapshots']['closest']['available'])\n",
        "links.json()"
      ]
    },
    {
      "cell_type": "code",
      "execution_count": null,
      "metadata": {
        "id": "skZNiwvv4PuF"
      },
      "outputs": [],
      "source": [
        "snaps = []\n",
        "for month in range(1,11):\n",
        "    for day in range(1,32):\n",
        "        link = requests.get('http://archive.org/wayback/available?url=igihe.com&timestamp=2022{:02d}{:02d}'.format(month, day))\n",
        "        try:\n",
        "            if link.json()['archived_snapshots']['closest']['available']:\n",
        "                snaps.append(link.json()['archived_snapshots']['closest']['url'])\n",
        "        except KeyError:\n",
        "            pass\n",
        "snaps\n",
        "# remove the doubles\n",
        "snap_r=set(snaps)\n",
        "snap_r"
      ]
    },
    {
      "cell_type": "code",
      "execution_count": null,
      "metadata": {
        "id": "e6OFqXgdkRdt"
      },
      "outputs": [],
      "source": [
        "snap_r"
      ]
    },
    {
      "cell_type": "code",
      "execution_count": null,
      "metadata": {
        "id": "YG2NasmqpyLe"
      },
      "outputs": [],
      "source": [
        "# fetch all the tittles and their links from wayback \n",
        "links_art=[]\n",
        "for snap in  snap_r:\n",
        "  content=requests.get(snap).content\n",
        "  soup=bs(content,'html.parser')\n",
        "  articles=soup.find_all('span',class_='homenews-title')\n",
        "  links_art.append(articles)\n",
        "\n",
        "content"
      ]
    },
    {
      "cell_type": "code",
      "execution_count": null,
      "metadata": {
        "colab": {
          "base_uri": "https://localhost:8080/",
          "height": 35
        },
        "id": "2eMaMILIcZwK",
        "outputId": "146fbfe9-a067-4976-eaed-4533ef06a806"
      },
      "outputs": [
        {
          "data": {
            "application/vnd.google.colaboratory.intrinsic+json": {
              "type": "string"
            },
            "text/plain": [
              "'imyidagaduro/article/amafoto-y-inkumi-yitabiriye-miss-rwanda-yigaruriye-umutima-niyomugabo-claude-wa'"
            ]
          },
          "execution_count": 6,
          "metadata": {},
          "output_type": "execute_result"
        }
      ],
      "source": [
        "links_art[0][0].find('a')['href']"
      ]
    },
    {
      "cell_type": "code",
      "execution_count": null,
      "metadata": {
        "colab": {
          "base_uri": "https://localhost:8080/"
        },
        "id": "6EX8jPWPtdAZ",
        "outputId": "a3683d08-d701-4e52-d426-45948158381a"
      },
      "outputs": [
        {
          "data": {
            "text/plain": [
              "194"
            ]
          },
          "execution_count": 11,
          "metadata": {},
          "output_type": "execute_result"
        }
      ],
      "source": [
        "list(snap_r)[0]\n",
        "len(list(snap_r))"
      ]
    },
    {
      "cell_type": "code",
      "execution_count": null,
      "metadata": {
        "id": "g4pmA4rspBFx"
      },
      "outputs": [],
      "source": [
        "#Actual link\n",
        "snapshot_link = []\n",
        "all_title = []\n",
        "\n",
        "#Loop all the 194 snapshots\n",
        "for index, snapshot in enumerate(list(snap_r)):\n",
        "  #In each title assign it's snapshop prefix link\n",
        "  for title in links_art[index]:\n",
        "    snapshot_link.append(snapshot)\n",
        "    all_title.append(str(title.find('a')['href']))"
      ]
    },
    {
      "cell_type": "code",
      "execution_count": null,
      "metadata": {
        "id": "nf_bj-TvxX6u"
      },
      "outputs": [],
      "source": [
        "df = pd.DataFrame(list(zip(snapshot_link,all_title)), columns=['Prefix', 'Title'])"
      ]
    },
    {
      "cell_type": "code",
      "execution_count": null,
      "metadata": {
        "colab": {
          "base_uri": "https://localhost:8080/",
          "height": 424
        },
        "id": "EAQucrBEx_sD",
        "outputId": "3cbeb748-ad48-4b55-b5c5-36cc06b968fa"
      },
      "outputs": [
        {
          "data": {
            "text/html": [
              "\n",
              "  <div id=\"df-1b9955a1-8f91-4d09-a942-1058c14a698b\">\n",
              "    <div class=\"colab-df-container\">\n",
              "      <div>\n",
              "<style scoped>\n",
              "    .dataframe tbody tr th:only-of-type {\n",
              "        vertical-align: middle;\n",
              "    }\n",
              "\n",
              "    .dataframe tbody tr th {\n",
              "        vertical-align: top;\n",
              "    }\n",
              "\n",
              "    .dataframe thead th {\n",
              "        text-align: right;\n",
              "    }\n",
              "</style>\n",
              "<table border=\"1\" class=\"dataframe\">\n",
              "  <thead>\n",
              "    <tr style=\"text-align: right;\">\n",
              "      <th></th>\n",
              "      <th>Prefix</th>\n",
              "      <th>Title</th>\n",
              "    </tr>\n",
              "  </thead>\n",
              "  <tbody>\n",
              "    <tr>\n",
              "      <th>0</th>\n",
              "      <td>http://web.archive.org/web/20220709235731/http...</td>\n",
              "      <td>imyidagaduro/article/amafoto-y-inkumi-yitabiri...</td>\n",
              "    </tr>\n",
              "    <tr>\n",
              "      <th>1</th>\n",
              "      <td>http://web.archive.org/web/20220709235731/http...</td>\n",
              "      <td>amakuru/u-rwanda/article/abanyarwanda-batuye-m...</td>\n",
              "    </tr>\n",
              "    <tr>\n",
              "      <th>2</th>\n",
              "      <td>http://web.archive.org/web/20220709235731/http...</td>\n",
              "      <td>amakuru/u-rwanda/article/gaz-yaturikiye-muri-c...</td>\n",
              "    </tr>\n",
              "    <tr>\n",
              "      <th>3</th>\n",
              "      <td>http://web.archive.org/web/20220709235731/http...</td>\n",
              "      <td>imikino/football/article/ikipe-y-u-bwongereza-...</td>\n",
              "    </tr>\n",
              "    <tr>\n",
              "      <th>4</th>\n",
              "      <td>http://web.archive.org/web/20220709235731/http...</td>\n",
              "      <td>amakuru/mu-mahanga/article/uburyo-shinzo-abe-w...</td>\n",
              "    </tr>\n",
              "    <tr>\n",
              "      <th>...</th>\n",
              "      <td>...</td>\n",
              "      <td>...</td>\n",
              "    </tr>\n",
              "    <tr>\n",
              "      <th>14141</th>\n",
              "      <td>http://web.archive.org/web/20220818235736/http...</td>\n",
              "      <td>amakuru/utuntu-n-utundi/article/umukobwa-wa-bi...</td>\n",
              "    </tr>\n",
              "    <tr>\n",
              "      <th>14145</th>\n",
              "      <td>http://web.archive.org/web/20220818235736/http...</td>\n",
              "      <td>twinigure/columnists/article/gasabo-umugabo-yi...</td>\n",
              "    </tr>\n",
              "    <tr>\n",
              "      <th>14149</th>\n",
              "      <td>http://web.archive.org/web/20220818235736/http...</td>\n",
              "      <td>twinigure/columnists/article/perezida-kagame-y...</td>\n",
              "    </tr>\n",
              "    <tr>\n",
              "      <th>14154</th>\n",
              "      <td>http://web.archive.org/web/20220818235736/http...</td>\n",
              "      <td>imyidagaduro/article/yvan-buravan-yitabye-imana</td>\n",
              "    </tr>\n",
              "    <tr>\n",
              "      <th>14155</th>\n",
              "      <td>http://web.archive.org/web/20220818235736/http...</td>\n",
              "      <td>politiki/article/u-rwanda-rwashimye-william-ru...</td>\n",
              "    </tr>\n",
              "  </tbody>\n",
              "</table>\n",
              "<p>7513 rows × 2 columns</p>\n",
              "</div>\n",
              "      <button class=\"colab-df-convert\" onclick=\"convertToInteractive('df-1b9955a1-8f91-4d09-a942-1058c14a698b')\"\n",
              "              title=\"Convert this dataframe to an interactive table.\"\n",
              "              style=\"display:none;\">\n",
              "        \n",
              "  <svg xmlns=\"http://www.w3.org/2000/svg\" height=\"24px\"viewBox=\"0 0 24 24\"\n",
              "       width=\"24px\">\n",
              "    <path d=\"M0 0h24v24H0V0z\" fill=\"none\"/>\n",
              "    <path d=\"M18.56 5.44l.94 2.06.94-2.06 2.06-.94-2.06-.94-.94-2.06-.94 2.06-2.06.94zm-11 1L8.5 8.5l.94-2.06 2.06-.94-2.06-.94L8.5 2.5l-.94 2.06-2.06.94zm10 10l.94 2.06.94-2.06 2.06-.94-2.06-.94-.94-2.06-.94 2.06-2.06.94z\"/><path d=\"M17.41 7.96l-1.37-1.37c-.4-.4-.92-.59-1.43-.59-.52 0-1.04.2-1.43.59L10.3 9.45l-7.72 7.72c-.78.78-.78 2.05 0 2.83L4 21.41c.39.39.9.59 1.41.59.51 0 1.02-.2 1.41-.59l7.78-7.78 2.81-2.81c.8-.78.8-2.07 0-2.86zM5.41 20L4 18.59l7.72-7.72 1.47 1.35L5.41 20z\"/>\n",
              "  </svg>\n",
              "      </button>\n",
              "      \n",
              "  <style>\n",
              "    .colab-df-container {\n",
              "      display:flex;\n",
              "      flex-wrap:wrap;\n",
              "      gap: 12px;\n",
              "    }\n",
              "\n",
              "    .colab-df-convert {\n",
              "      background-color: #E8F0FE;\n",
              "      border: none;\n",
              "      border-radius: 50%;\n",
              "      cursor: pointer;\n",
              "      display: none;\n",
              "      fill: #1967D2;\n",
              "      height: 32px;\n",
              "      padding: 0 0 0 0;\n",
              "      width: 32px;\n",
              "    }\n",
              "\n",
              "    .colab-df-convert:hover {\n",
              "      background-color: #E2EBFA;\n",
              "      box-shadow: 0px 1px 2px rgba(60, 64, 67, 0.3), 0px 1px 3px 1px rgba(60, 64, 67, 0.15);\n",
              "      fill: #174EA6;\n",
              "    }\n",
              "\n",
              "    [theme=dark] .colab-df-convert {\n",
              "      background-color: #3B4455;\n",
              "      fill: #D2E3FC;\n",
              "    }\n",
              "\n",
              "    [theme=dark] .colab-df-convert:hover {\n",
              "      background-color: #434B5C;\n",
              "      box-shadow: 0px 1px 3px 1px rgba(0, 0, 0, 0.15);\n",
              "      filter: drop-shadow(0px 1px 2px rgba(0, 0, 0, 0.3));\n",
              "      fill: #FFFFFF;\n",
              "    }\n",
              "  </style>\n",
              "\n",
              "      <script>\n",
              "        const buttonEl =\n",
              "          document.querySelector('#df-1b9955a1-8f91-4d09-a942-1058c14a698b button.colab-df-convert');\n",
              "        buttonEl.style.display =\n",
              "          google.colab.kernel.accessAllowed ? 'block' : 'none';\n",
              "\n",
              "        async function convertToInteractive(key) {\n",
              "          const element = document.querySelector('#df-1b9955a1-8f91-4d09-a942-1058c14a698b');\n",
              "          const dataTable =\n",
              "            await google.colab.kernel.invokeFunction('convertToInteractive',\n",
              "                                                     [key], {});\n",
              "          if (!dataTable) return;\n",
              "\n",
              "          const docLinkHtml = 'Like what you see? Visit the ' +\n",
              "            '<a target=\"_blank\" href=https://colab.research.google.com/notebooks/data_table.ipynb>data table notebook</a>'\n",
              "            + ' to learn more about interactive tables.';\n",
              "          element.innerHTML = '';\n",
              "          dataTable['output_type'] = 'display_data';\n",
              "          await google.colab.output.renderOutput(dataTable, element);\n",
              "          const docLink = document.createElement('div');\n",
              "          docLink.innerHTML = docLinkHtml;\n",
              "          element.appendChild(docLink);\n",
              "        }\n",
              "      </script>\n",
              "    </div>\n",
              "  </div>\n",
              "  "
            ],
            "text/plain": [
              "                                                  Prefix  \\\n",
              "0      http://web.archive.org/web/20220709235731/http...   \n",
              "1      http://web.archive.org/web/20220709235731/http...   \n",
              "2      http://web.archive.org/web/20220709235731/http...   \n",
              "3      http://web.archive.org/web/20220709235731/http...   \n",
              "4      http://web.archive.org/web/20220709235731/http...   \n",
              "...                                                  ...   \n",
              "14141  http://web.archive.org/web/20220818235736/http...   \n",
              "14145  http://web.archive.org/web/20220818235736/http...   \n",
              "14149  http://web.archive.org/web/20220818235736/http...   \n",
              "14154  http://web.archive.org/web/20220818235736/http...   \n",
              "14155  http://web.archive.org/web/20220818235736/http...   \n",
              "\n",
              "                                                   Title  \n",
              "0      imyidagaduro/article/amafoto-y-inkumi-yitabiri...  \n",
              "1      amakuru/u-rwanda/article/abanyarwanda-batuye-m...  \n",
              "2      amakuru/u-rwanda/article/gaz-yaturikiye-muri-c...  \n",
              "3      imikino/football/article/ikipe-y-u-bwongereza-...  \n",
              "4      amakuru/mu-mahanga/article/uburyo-shinzo-abe-w...  \n",
              "...                                                  ...  \n",
              "14141  amakuru/utuntu-n-utundi/article/umukobwa-wa-bi...  \n",
              "14145  twinigure/columnists/article/gasabo-umugabo-yi...  \n",
              "14149  twinigure/columnists/article/perezida-kagame-y...  \n",
              "14154    imyidagaduro/article/yvan-buravan-yitabye-imana  \n",
              "14155  politiki/article/u-rwanda-rwashimye-william-ru...  \n",
              "\n",
              "[7513 rows x 2 columns]"
            ]
          },
          "execution_count": 18,
          "metadata": {},
          "output_type": "execute_result"
        }
      ],
      "source": [
        "df.drop_duplicates(subset=['Title'])\n",
        "# you can even do it without adding the keyword subset"
      ]
    },
    {
      "cell_type": "code",
      "execution_count": null,
      "metadata": {
        "id": "KDNUW-wmyQVX"
      },
      "outputs": [],
      "source": [
        "# we started by exploring a single link\n",
        "link = df['Prefix'][0]+df['Title'][0]\n",
        "content = requests.get(link).content\n",
        "\n",
        "raw_content = BeautifulSoup(content, 'html.parser')"
      ]
    },
    {
      "cell_type": "code",
      "execution_count": null,
      "metadata": {
        "id": "IdS-V5nwyicG"
      },
      "outputs": [],
      "source": [
        "def get_article_text(link):\n",
        "  content = requests.get(link).content\n",
        "  body = BeautifulSoup(content, 'html.parser').find_all('div',class_='fulltext margintop10')\n",
        "  # body=raw_content.find_all('div',class_='fulltext margintop10')\n",
        "  text=''\n",
        "  try:\n",
        "    paragraph=BeautifulSoup(str(body)).find_all('p')\n",
        "    for line in paragraph:\n",
        "      text=text+'\\n'+line.get_text()\n",
        "  except AttributeError:\n",
        "    pass\n",
        "  return text \n"
      ]
    },
    {
      "cell_type": "code",
      "execution_count": null,
      "metadata": {
        "colab": {
          "background_save": true
        },
        "id": "i-8hceoN0JEH"
      },
      "outputs": [],
      "source": [
        "articles =[]\n",
        "for index,article in enumerate(df['Title']):\n",
        "  txt=get_article_text(link=df['Prefix'][index]+article)\n",
        "  articles.append(txt)"
      ]
    }
  ],
  "metadata": {
    "colab": {
      "collapsed_sections": [],
      "provenance": [],
      "include_colab_link": true
    },
    "kernelspec": {
      "display_name": "Python 3",
      "name": "python3"
    },
    "language_info": {
      "name": "python"
    }
  },
  "nbformat": 4,
  "nbformat_minor": 0
}