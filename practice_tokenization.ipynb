{
  "nbformat": 4,
  "nbformat_minor": 0,
  "metadata": {
    "colab": {
      "provenance": [],
      "collapsed_sections": [],
      "authorship_tag": "ABX9TyMnNmJzAkx6QZkARezlj+7L",
      "include_colab_link": true
    },
    "kernelspec": {
      "name": "python3",
      "display_name": "Python 3"
    },
    "language_info": {
      "name": "python"
    }
  },
  "cells": [
    {
      "cell_type": "markdown",
      "metadata": {
        "id": "view-in-github",
        "colab_type": "text"
      },
      "source": [
        "<a href=\"https://colab.research.google.com/github/GraceUmutesi/NLP-fellowship-assignment/blob/main/practice_tokenization.ipynb\" target=\"_parent\"><img src=\"https://colab.research.google.com/assets/colab-badge.svg\" alt=\"Open In Colab\"/></a>"
      ]
    },
    {
      "cell_type": "code",
      "execution_count": null,
      "metadata": {
        "id": "T232He-1sWIo"
      },
      "outputs": [],
      "source": [
        "!pip install nltk\n",
        "!pip install spacy"
      ]
    },
    {
      "cell_type": "code",
      "source": [
        "import nltk.data\n",
        "nltk.download('punkt')"
      ],
      "metadata": {
        "colab": {
          "base_uri": "https://localhost:8080/"
        },
        "id": "R0qQUKb07vID",
        "outputId": "ac7e63bb-ead0-4d07-e85b-ac34e60ae335"
      },
      "execution_count": 5,
      "outputs": [
        {
          "output_type": "stream",
          "name": "stderr",
          "text": [
            "[nltk_data] Downloading package punkt to /root/nltk_data...\n",
            "[nltk_data]   Unzipping tokenizers/punkt.zip.\n"
          ]
        },
        {
          "output_type": "execute_result",
          "data": {
            "text/plain": [
              "True"
            ]
          },
          "metadata": {},
          "execution_count": 5
        }
      ]
    },
    {
      "cell_type": "code",
      "source": [
        "text= '''\n",
        "    Punkt knows that the periods in Mr. Smith and Johann S. Bach\n",
        "    do not mark sentence boundaries.  And sometimes sentences\n",
        "    can start with non-capitalized words.  i is a good variable name.\n",
        "'''"
      ],
      "metadata": {
        "id": "zcFNpIPS75JE"
      },
      "execution_count": 3,
      "outputs": []
    },
    {
      "cell_type": "code",
      "source": [
        "sent_detector=nltk.data.load('tokenizers/punkt/english.pickle')"
      ],
      "metadata": {
        "id": "wQVrlXCb8XKp"
      },
      "execution_count": 6,
      "outputs": []
    },
    {
      "cell_type": "code",
      "source": [
        "text.strip()"
      ],
      "metadata": {
        "colab": {
          "base_uri": "https://localhost:8080/",
          "height": 53
        },
        "id": "14InD3MA_SMw",
        "outputId": "296b42f2-7e63-4807-8427-e3fa00e10f94"
      },
      "execution_count": 7,
      "outputs": [
        {
          "output_type": "execute_result",
          "data": {
            "text/plain": [
              "'Punkt knows that the periods in Mr. Smith and Johann S. Bach\\n    do not mark sentence boundaries.  And sometimes sentences\\n    can start with non-capitalized words.  i is a good variable name.'"
            ],
            "application/vnd.google.colaboratory.intrinsic+json": {
              "type": "string"
            }
          },
          "metadata": {},
          "execution_count": 7
        }
      ]
    },
    {
      "cell_type": "code",
      "source": [
        "sent_detector.tokenize(text.strip())"
      ],
      "metadata": {
        "id": "bv0Iqa9I_lY1"
      },
      "execution_count": null,
      "outputs": []
    },
    {
      "cell_type": "code",
      "source": [
        "print('\\n-----\\n'.join(sent_detector.tokenize(text.strip())))"
      ],
      "metadata": {
        "id": "O_cArLcUAaEe"
      },
      "execution_count": null,
      "outputs": []
    },
    {
      "cell_type": "code",
      "source": [
        "\"\"\"Punctuation following sentences is also included by default\n",
        "(from NLTK 3.0 onwards). It can be excluded with the realign_boundaries\n",
        "flag.\"\"\""
      ],
      "metadata": {
        "id": "TKTrYYCdBYOy"
      },
      "execution_count": null,
      "outputs": []
    },
    {
      "cell_type": "code",
      "source": [
        "text = '''\n",
        "   (How does it deal with this parenthesis?)  \"It should be part of the\n",
        "   previous sentence.\" \"(And the same with this one.)\" ('And this one!')\n",
        "   \"('(And (this)) '?)\" [(and this. )]\n",
        "  '''\n",
        "sent_detector.tokenize(text.strip())"
      ],
      "metadata": {
        "id": "pGlQo_8dBoRA"
      },
      "execution_count": null,
      "outputs": []
    },
    {
      "cell_type": "code",
      "source": [
        "print('\\n-----\\n'.join(sent_detector.tokenize(text.strip())))"
      ],
      "metadata": {
        "id": "TgQWdr60CWuE"
      },
      "execution_count": null,
      "outputs": []
    },
    {
      "cell_type": "code",
      "source": [
        "sent_detector.tokenize(text.strip(), realign_boundaries=False)"
      ],
      "metadata": {
        "id": "IUJwgePzEsv6"
      },
      "execution_count": null,
      "outputs": []
    }
  ]
}