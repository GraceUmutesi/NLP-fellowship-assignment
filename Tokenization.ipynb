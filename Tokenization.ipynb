{
  "nbformat": 4,
  "nbformat_minor": 0,
  "metadata": {
    "colab": {
      "provenance": [],
      "include_colab_link": true
    },
    "kernelspec": {
      "name": "python3",
      "display_name": "Python 3"
    },
    "language_info": {
      "name": "python"
    }
  },
  "cells": [
    {
      "cell_type": "markdown",
      "metadata": {
        "id": "view-in-github",
        "colab_type": "text"
      },
      "source": [
        "<a href=\"https://colab.research.google.com/github/GraceUmutesi/NLP-fellowship-assignment/blob/main/Tokenization.ipynb\" target=\"_parent\"><img src=\"https://colab.research.google.com/assets/colab-badge.svg\" alt=\"Open In Colab\"/></a>"
      ]
    },
    {
      "cell_type": "markdown",
      "source": [
        "# Tokenization\n",
        "Transforming text to the simplest discrete element called token. The token can be word, character, sentence.\n"
      ],
      "metadata": {
        "id": "yRDNOPjvNlWx"
      }
    },
    {
      "cell_type": "code",
      "source": [
        "# Simplest form of tokenization\n",
        "text = '''Hon. Wanami Wamboka (Bumula, DAP-K): Hon. Speaker, as Members of this\n",
        "House, we must be concerned when one of us has issues around them. I want to indulge\n",
        "Members to support me because today, we are discussing Hon. Waluke and tomorrow, we\n",
        "might talk about another Member of this House. There is a very dangerous trend that is\n",
        "happening in this country. I do not understand why Hon. Waluke has been jailed for 70 years\n",
        "or pay a fine of Kshs1 billion whereas there are other people in this country who have had\n",
        "issues. As I speak, if you are aligned to a certain side in this country and you have a case in court, the case will be withdrawn. Mr. Chumo, the Managing Director of the Kenya Power\n",
        "Company, had his case withdrawn. The cases of Hon. Aisha Jumwa, Hon. former Governor of\n",
        "Samburu, Hon. Waititu, Zacharia Mbugua and Joyce Ngina among others have been\n",
        "withdrawn! I do not understand why Hon. Waluke is still facing persecution. I also do not\n",
        "understand why Hon. Kimunya’s case has resurfaced from nowhere. I want to put a case…\n",
        "'''\n",
        "\n",
        "text = text.replace('\\n', ' ')\n",
        "word_token = text.split()\n",
        "print('length of list---------', len(word_token))\n",
        "print(word_token)\n",
        "print('****************************')\n",
        "\n",
        "sentence_token =text.split('. ')\n",
        "print('length of list---------', len(sentence_token))\n",
        "print(sentence_token)\n",
        "print('****************************')\n",
        "\n",
        "character_token = list(text)\n",
        "print('length of list---------', len(character_token))\n",
        "print(character_token)\n",
        "print('****************************')"
      ],
      "metadata": {
        "colab": {
          "base_uri": "https://localhost:8080/"
        },
        "id": "hIK392zDj2NS",
        "outputId": "1f1ed24e-68b4-4642-8ab2-341df0504abd"
      },
      "execution_count": 1,
      "outputs": [
        {
          "output_type": "stream",
          "name": "stdout",
          "text": [
            "length of list--------- 187\n",
            "['Hon.', 'Wanami', 'Wamboka', '(Bumula,', 'DAP-K):', 'Hon.', 'Speaker,', 'as', 'Members', 'of', 'this', 'House,', 'we', 'must', 'be', 'concerned', 'when', 'one', 'of', 'us', 'has', 'issues', 'around', 'them.', 'I', 'want', 'to', 'indulge', 'Members', 'to', 'support', 'me', 'because', 'today,', 'we', 'are', 'discussing', 'Hon.', 'Waluke', 'and', 'tomorrow,', 'we', 'might', 'talk', 'about', 'another', 'Member', 'of', 'this', 'House.', 'There', 'is', 'a', 'very', 'dangerous', 'trend', 'that', 'is', 'happening', 'in', 'this', 'country.', 'I', 'do', 'not', 'understand', 'why', 'Hon.', 'Waluke', 'has', 'been', 'jailed', 'for', '70', 'years', 'or', 'pay', 'a', 'fine', 'of', 'Kshs1', 'billion', 'whereas', 'there', 'are', 'other', 'people', 'in', 'this', 'country', 'who', 'have', 'had', 'issues.', 'As', 'I', 'speak,', 'if', 'you', 'are', 'aligned', 'to', 'a', 'certain', 'side', 'in', 'this', 'country', 'and', 'you', 'have', 'a', 'case', 'in', 'court,', 'the', 'case', 'will', 'be', 'withdrawn.', 'Mr.', 'Chumo,', 'the', 'Managing', 'Director', 'of', 'the', 'Kenya', 'Power', 'Company,', 'had', 'his', 'case', 'withdrawn.', 'The', 'cases', 'of', 'Hon.', 'Aisha', 'Jumwa,', 'Hon.', 'former', 'Governor', 'of', 'Samburu,', 'Hon.', 'Waititu,', 'Zacharia', 'Mbugua', 'and', 'Joyce', 'Ngina', 'among', 'others', 'have', 'been', 'withdrawn!', 'I', 'do', 'not', 'understand', 'why', 'Hon.', 'Waluke', 'is', 'still', 'facing', 'persecution.', 'I', 'also', 'do', 'not', 'understand', 'why', 'Hon.', 'Kimunya’s', 'case', 'has', 'resurfaced', 'from', 'nowhere.', 'I', 'want', 'to', 'put', 'a', 'case…']\n",
            "****************************\n",
            "length of list--------- 19\n",
            "['Hon', 'Wanami Wamboka (Bumula, DAP-K): Hon', 'Speaker, as Members of this House, we must be concerned when one of us has issues around them', 'I want to indulge Members to support me because today, we are discussing Hon', 'Waluke and tomorrow, we might talk about another Member of this House', 'There is a very dangerous trend that is happening in this country', 'I do not understand why Hon', 'Waluke has been jailed for 70 years or pay a fine of Kshs1 billion whereas there are other people in this country who have had issues', 'As I speak, if you are aligned to a certain side in this country and you have a case in court, the case will be withdrawn', 'Mr', 'Chumo, the Managing Director of the Kenya Power Company, had his case withdrawn', 'The cases of Hon', 'Aisha Jumwa, Hon', 'former Governor of Samburu, Hon', 'Waititu, Zacharia Mbugua and Joyce Ngina among others have been withdrawn! I do not understand why Hon', 'Waluke is still facing persecution', 'I also do not understand why Hon', 'Kimunya’s case has resurfaced from nowhere', 'I want to put a case… ']\n",
            "****************************\n",
            "length of list--------- 1034\n",
            "['H', 'o', 'n', '.', ' ', 'W', 'a', 'n', 'a', 'm', 'i', ' ', 'W', 'a', 'm', 'b', 'o', 'k', 'a', ' ', '(', 'B', 'u', 'm', 'u', 'l', 'a', ',', ' ', 'D', 'A', 'P', '-', 'K', ')', ':', ' ', 'H', 'o', 'n', '.', ' ', 'S', 'p', 'e', 'a', 'k', 'e', 'r', ',', ' ', 'a', 's', ' ', 'M', 'e', 'm', 'b', 'e', 'r', 's', ' ', 'o', 'f', ' ', 't', 'h', 'i', 's', ' ', 'H', 'o', 'u', 's', 'e', ',', ' ', 'w', 'e', ' ', 'm', 'u', 's', 't', ' ', 'b', 'e', ' ', 'c', 'o', 'n', 'c', 'e', 'r', 'n', 'e', 'd', ' ', 'w', 'h', 'e', 'n', ' ', 'o', 'n', 'e', ' ', 'o', 'f', ' ', 'u', 's', ' ', 'h', 'a', 's', ' ', 'i', 's', 's', 'u', 'e', 's', ' ', 'a', 'r', 'o', 'u', 'n', 'd', ' ', 't', 'h', 'e', 'm', '.', ' ', 'I', ' ', 'w', 'a', 'n', 't', ' ', 't', 'o', ' ', 'i', 'n', 'd', 'u', 'l', 'g', 'e', ' ', 'M', 'e', 'm', 'b', 'e', 'r', 's', ' ', 't', 'o', ' ', 's', 'u', 'p', 'p', 'o', 'r', 't', ' ', 'm', 'e', ' ', 'b', 'e', 'c', 'a', 'u', 's', 'e', ' ', 't', 'o', 'd', 'a', 'y', ',', ' ', 'w', 'e', ' ', 'a', 'r', 'e', ' ', 'd', 'i', 's', 'c', 'u', 's', 's', 'i', 'n', 'g', ' ', 'H', 'o', 'n', '.', ' ', 'W', 'a', 'l', 'u', 'k', 'e', ' ', 'a', 'n', 'd', ' ', 't', 'o', 'm', 'o', 'r', 'r', 'o', 'w', ',', ' ', 'w', 'e', ' ', 'm', 'i', 'g', 'h', 't', ' ', 't', 'a', 'l', 'k', ' ', 'a', 'b', 'o', 'u', 't', ' ', 'a', 'n', 'o', 't', 'h', 'e', 'r', ' ', 'M', 'e', 'm', 'b', 'e', 'r', ' ', 'o', 'f', ' ', 't', 'h', 'i', 's', ' ', 'H', 'o', 'u', 's', 'e', '.', ' ', 'T', 'h', 'e', 'r', 'e', ' ', 'i', 's', ' ', 'a', ' ', 'v', 'e', 'r', 'y', ' ', 'd', 'a', 'n', 'g', 'e', 'r', 'o', 'u', 's', ' ', 't', 'r', 'e', 'n', 'd', ' ', 't', 'h', 'a', 't', ' ', 'i', 's', ' ', 'h', 'a', 'p', 'p', 'e', 'n', 'i', 'n', 'g', ' ', 'i', 'n', ' ', 't', 'h', 'i', 's', ' ', 'c', 'o', 'u', 'n', 't', 'r', 'y', '.', ' ', 'I', ' ', 'd', 'o', ' ', 'n', 'o', 't', ' ', 'u', 'n', 'd', 'e', 'r', 's', 't', 'a', 'n', 'd', ' ', 'w', 'h', 'y', ' ', 'H', 'o', 'n', '.', ' ', 'W', 'a', 'l', 'u', 'k', 'e', ' ', 'h', 'a', 's', ' ', 'b', 'e', 'e', 'n', ' ', 'j', 'a', 'i', 'l', 'e', 'd', ' ', 'f', 'o', 'r', ' ', '7', '0', ' ', 'y', 'e', 'a', 'r', 's', ' ', 'o', 'r', ' ', 'p', 'a', 'y', ' ', 'a', ' ', 'f', 'i', 'n', 'e', ' ', 'o', 'f', ' ', 'K', 's', 'h', 's', '1', ' ', 'b', 'i', 'l', 'l', 'i', 'o', 'n', ' ', 'w', 'h', 'e', 'r', 'e', 'a', 's', ' ', 't', 'h', 'e', 'r', 'e', ' ', 'a', 'r', 'e', ' ', 'o', 't', 'h', 'e', 'r', ' ', 'p', 'e', 'o', 'p', 'l', 'e', ' ', 'i', 'n', ' ', 't', 'h', 'i', 's', ' ', 'c', 'o', 'u', 'n', 't', 'r', 'y', ' ', 'w', 'h', 'o', ' ', 'h', 'a', 'v', 'e', ' ', 'h', 'a', 'd', ' ', 'i', 's', 's', 'u', 'e', 's', '.', ' ', 'A', 's', ' ', 'I', ' ', 's', 'p', 'e', 'a', 'k', ',', ' ', 'i', 'f', ' ', 'y', 'o', 'u', ' ', 'a', 'r', 'e', ' ', 'a', 'l', 'i', 'g', 'n', 'e', 'd', ' ', 't', 'o', ' ', 'a', ' ', 'c', 'e', 'r', 't', 'a', 'i', 'n', ' ', 's', 'i', 'd', 'e', ' ', 'i', 'n', ' ', 't', 'h', 'i', 's', ' ', 'c', 'o', 'u', 'n', 't', 'r', 'y', ' ', 'a', 'n', 'd', ' ', 'y', 'o', 'u', ' ', 'h', 'a', 'v', 'e', ' ', 'a', ' ', 'c', 'a', 's', 'e', ' ', 'i', 'n', ' ', 'c', 'o', 'u', 'r', 't', ',', ' ', 't', 'h', 'e', ' ', 'c', 'a', 's', 'e', ' ', 'w', 'i', 'l', 'l', ' ', 'b', 'e', ' ', 'w', 'i', 't', 'h', 'd', 'r', 'a', 'w', 'n', '.', ' ', 'M', 'r', '.', ' ', 'C', 'h', 'u', 'm', 'o', ',', ' ', 't', 'h', 'e', ' ', 'M', 'a', 'n', 'a', 'g', 'i', 'n', 'g', ' ', 'D', 'i', 'r', 'e', 'c', 't', 'o', 'r', ' ', 'o', 'f', ' ', 't', 'h', 'e', ' ', 'K', 'e', 'n', 'y', 'a', ' ', 'P', 'o', 'w', 'e', 'r', ' ', 'C', 'o', 'm', 'p', 'a', 'n', 'y', ',', ' ', 'h', 'a', 'd', ' ', 'h', 'i', 's', ' ', 'c', 'a', 's', 'e', ' ', 'w', 'i', 't', 'h', 'd', 'r', 'a', 'w', 'n', '.', ' ', 'T', 'h', 'e', ' ', 'c', 'a', 's', 'e', 's', ' ', 'o', 'f', ' ', 'H', 'o', 'n', '.', ' ', 'A', 'i', 's', 'h', 'a', ' ', 'J', 'u', 'm', 'w', 'a', ',', ' ', 'H', 'o', 'n', '.', ' ', 'f', 'o', 'r', 'm', 'e', 'r', ' ', 'G', 'o', 'v', 'e', 'r', 'n', 'o', 'r', ' ', 'o', 'f', ' ', 'S', 'a', 'm', 'b', 'u', 'r', 'u', ',', ' ', 'H', 'o', 'n', '.', ' ', 'W', 'a', 'i', 't', 'i', 't', 'u', ',', ' ', 'Z', 'a', 'c', 'h', 'a', 'r', 'i', 'a', ' ', 'M', 'b', 'u', 'g', 'u', 'a', ' ', 'a', 'n', 'd', ' ', 'J', 'o', 'y', 'c', 'e', ' ', 'N', 'g', 'i', 'n', 'a', ' ', 'a', 'm', 'o', 'n', 'g', ' ', 'o', 't', 'h', 'e', 'r', 's', ' ', 'h', 'a', 'v', 'e', ' ', 'b', 'e', 'e', 'n', ' ', 'w', 'i', 't', 'h', 'd', 'r', 'a', 'w', 'n', '!', ' ', 'I', ' ', 'd', 'o', ' ', 'n', 'o', 't', ' ', 'u', 'n', 'd', 'e', 'r', 's', 't', 'a', 'n', 'd', ' ', 'w', 'h', 'y', ' ', 'H', 'o', 'n', '.', ' ', 'W', 'a', 'l', 'u', 'k', 'e', ' ', 'i', 's', ' ', 's', 't', 'i', 'l', 'l', ' ', 'f', 'a', 'c', 'i', 'n', 'g', ' ', 'p', 'e', 'r', 's', 'e', 'c', 'u', 't', 'i', 'o', 'n', '.', ' ', 'I', ' ', 'a', 'l', 's', 'o', ' ', 'd', 'o', ' ', 'n', 'o', 't', ' ', 'u', 'n', 'd', 'e', 'r', 's', 't', 'a', 'n', 'd', ' ', 'w', 'h', 'y', ' ', 'H', 'o', 'n', '.', ' ', 'K', 'i', 'm', 'u', 'n', 'y', 'a', '’', 's', ' ', 'c', 'a', 's', 'e', ' ', 'h', 'a', 's', ' ', 'r', 'e', 's', 'u', 'r', 'f', 'a', 'c', 'e', 'd', ' ', 'f', 'r', 'o', 'm', ' ', 'n', 'o', 'w', 'h', 'e', 'r', 'e', '.', ' ', 'I', ' ', 'w', 'a', 'n', 't', ' ', 't', 'o', ' ', 'p', 'u', 't', ' ', 'a', ' ', 'c', 'a', 's', 'e', '…', ' ']\n",
            "****************************\n"
          ]
        }
      ]
    },
    {
      "cell_type": "code",
      "source": [
        "!pip install nltk\n",
        "!pip install spacy"
      ],
      "metadata": {
        "colab": {
          "base_uri": "https://localhost:8080/"
        },
        "id": "w06zu8CMGazM",
        "outputId": "feb7e2e0-d379-4d8b-cc58-8f37c9af5822"
      },
      "execution_count": 2,
      "outputs": [
        {
          "output_type": "stream",
          "name": "stdout",
          "text": [
            "Looking in indexes: https://pypi.org/simple, https://us-python.pkg.dev/colab-wheels/public/simple/\n",
            "Requirement already satisfied: nltk in /usr/local/lib/python3.7/dist-packages (3.7)\n",
            "Requirement already satisfied: joblib in /usr/local/lib/python3.7/dist-packages (from nltk) (1.2.0)\n",
            "Requirement already satisfied: click in /usr/local/lib/python3.7/dist-packages (from nltk) (7.1.2)\n",
            "Requirement already satisfied: regex>=2021.8.3 in /usr/local/lib/python3.7/dist-packages (from nltk) (2022.6.2)\n",
            "Requirement already satisfied: tqdm in /usr/local/lib/python3.7/dist-packages (from nltk) (4.64.1)\n",
            "Looking in indexes: https://pypi.org/simple, https://us-python.pkg.dev/colab-wheels/public/simple/\n",
            "Requirement already satisfied: spacy in /usr/local/lib/python3.7/dist-packages (3.4.2)\n",
            "Requirement already satisfied: thinc<8.2.0,>=8.1.0 in /usr/local/lib/python3.7/dist-packages (from spacy) (8.1.5)\n",
            "Requirement already satisfied: spacy-loggers<2.0.0,>=1.0.0 in /usr/local/lib/python3.7/dist-packages (from spacy) (1.0.3)\n",
            "Requirement already satisfied: typing-extensions<4.2.0,>=3.7.4 in /usr/local/lib/python3.7/dist-packages (from spacy) (4.1.1)\n",
            "Requirement already satisfied: tqdm<5.0.0,>=4.38.0 in /usr/local/lib/python3.7/dist-packages (from spacy) (4.64.1)\n",
            "Requirement already satisfied: requests<3.0.0,>=2.13.0 in /usr/local/lib/python3.7/dist-packages (from spacy) (2.23.0)\n",
            "Requirement already satisfied: wasabi<1.1.0,>=0.9.1 in /usr/local/lib/python3.7/dist-packages (from spacy) (0.10.1)\n",
            "Requirement already satisfied: setuptools in /usr/local/lib/python3.7/dist-packages (from spacy) (57.4.0)\n",
            "Requirement already satisfied: catalogue<2.1.0,>=2.0.6 in /usr/local/lib/python3.7/dist-packages (from spacy) (2.0.8)\n",
            "Requirement already satisfied: packaging>=20.0 in /usr/local/lib/python3.7/dist-packages (from spacy) (21.3)\n",
            "Requirement already satisfied: pathy>=0.3.5 in /usr/local/lib/python3.7/dist-packages (from spacy) (0.6.2)\n",
            "Requirement already satisfied: jinja2 in /usr/local/lib/python3.7/dist-packages (from spacy) (2.11.3)\n",
            "Requirement already satisfied: pydantic!=1.8,!=1.8.1,<1.11.0,>=1.7.4 in /usr/local/lib/python3.7/dist-packages (from spacy) (1.10.2)\n",
            "Requirement already satisfied: murmurhash<1.1.0,>=0.28.0 in /usr/local/lib/python3.7/dist-packages (from spacy) (1.0.9)\n",
            "Requirement already satisfied: typer<0.5.0,>=0.3.0 in /usr/local/lib/python3.7/dist-packages (from spacy) (0.4.2)\n",
            "Requirement already satisfied: preshed<3.1.0,>=3.0.2 in /usr/local/lib/python3.7/dist-packages (from spacy) (3.0.8)\n",
            "Requirement already satisfied: cymem<2.1.0,>=2.0.2 in /usr/local/lib/python3.7/dist-packages (from spacy) (2.0.7)\n",
            "Requirement already satisfied: numpy>=1.15.0 in /usr/local/lib/python3.7/dist-packages (from spacy) (1.21.6)\n",
            "Requirement already satisfied: langcodes<4.0.0,>=3.2.0 in /usr/local/lib/python3.7/dist-packages (from spacy) (3.3.0)\n",
            "Requirement already satisfied: spacy-legacy<3.1.0,>=3.0.10 in /usr/local/lib/python3.7/dist-packages (from spacy) (3.0.10)\n",
            "Requirement already satisfied: srsly<3.0.0,>=2.4.3 in /usr/local/lib/python3.7/dist-packages (from spacy) (2.4.5)\n",
            "Requirement already satisfied: zipp>=0.5 in /usr/local/lib/python3.7/dist-packages (from catalogue<2.1.0,>=2.0.6->spacy) (3.10.0)\n",
            "Requirement already satisfied: pyparsing!=3.0.5,>=2.0.2 in /usr/local/lib/python3.7/dist-packages (from packaging>=20.0->spacy) (3.0.9)\n",
            "Requirement already satisfied: smart-open<6.0.0,>=5.2.1 in /usr/local/lib/python3.7/dist-packages (from pathy>=0.3.5->spacy) (5.2.1)\n",
            "Requirement already satisfied: idna<3,>=2.5 in /usr/local/lib/python3.7/dist-packages (from requests<3.0.0,>=2.13.0->spacy) (2.10)\n",
            "Requirement already satisfied: chardet<4,>=3.0.2 in /usr/local/lib/python3.7/dist-packages (from requests<3.0.0,>=2.13.0->spacy) (3.0.4)\n",
            "Requirement already satisfied: certifi>=2017.4.17 in /usr/local/lib/python3.7/dist-packages (from requests<3.0.0,>=2.13.0->spacy) (2022.9.24)\n",
            "Requirement already satisfied: urllib3!=1.25.0,!=1.25.1,<1.26,>=1.21.1 in /usr/local/lib/python3.7/dist-packages (from requests<3.0.0,>=2.13.0->spacy) (1.24.3)\n",
            "Requirement already satisfied: blis<0.8.0,>=0.7.8 in /usr/local/lib/python3.7/dist-packages (from thinc<8.2.0,>=8.1.0->spacy) (0.7.9)\n",
            "Requirement already satisfied: confection<1.0.0,>=0.0.1 in /usr/local/lib/python3.7/dist-packages (from thinc<8.2.0,>=8.1.0->spacy) (0.0.3)\n",
            "Requirement already satisfied: click<9.0.0,>=7.1.1 in /usr/local/lib/python3.7/dist-packages (from typer<0.5.0,>=0.3.0->spacy) (7.1.2)\n",
            "Requirement already satisfied: MarkupSafe>=0.23 in /usr/local/lib/python3.7/dist-packages (from jinja2->spacy) (2.0.1)\n"
          ]
        }
      ]
    },
    {
      "cell_type": "markdown",
      "source": [
        "## Python packages used for tokenization\n",
        "Problem with the above is we have to define what makes up a word or sentence. From the above we can see that words are placed together with full stop. In the sentence token, we can see there are only 2 sentence but because some of the \\n.\n",
        "\n",
        "There are packages that can be used to properly tokenize the text. Some of the packages we will look at are:\n",
        "\n",
        "\n",
        "*  Regex\n",
        "* NLTK\n",
        "*   Gensim\n",
        "*   Spacy\n",
        "* Keras\n",
        "* Huggingface\n",
        "\n"
      ],
      "metadata": {
        "id": "VStF_XrjmsD4"
      }
    },
    {
      "cell_type": "markdown",
      "source": [
        "## Regex\n",
        "We can use regex to indentify words or sentences. This seems better but still does not solve our problems when it comes to working with sentences.\n"
      ],
      "metadata": {
        "id": "oWMHwRdYpjBa"
      }
    },
    {
      "cell_type": "code",
      "source": [
        "import re\n",
        "\n",
        "\n",
        "word_tokens_re = re.findall(\"[\\w]+\", text) \n",
        "print('length of list---------', len(word_tokens_re))\n",
        "print(word_tokens_re) # does not pick punctuations. \n",
        "\n",
        "sentence_tokens_re = re.compile('[.!?] ').split(text)\n",
        "print('length of list---------', len(sentence_tokens_re))\n",
        "print(sentence_tokens_re)"
      ],
      "metadata": {
        "id": "VB8d4rjspe81",
        "colab": {
          "base_uri": "https://localhost:8080/"
        },
        "outputId": "63c3888f-8e5f-4a41-95ef-f829bdf92a5f"
      },
      "execution_count": null,
      "outputs": [
        {
          "output_type": "stream",
          "name": "stdout",
          "text": [
            "length of list--------- 189\n",
            "['Hon', 'Wanami', 'Wamboka', 'Bumula', 'DAP', 'K', 'Hon', 'Speaker', 'as', 'Members', 'of', 'this', 'House', 'we', 'must', 'be', 'concerned', 'when', 'one', 'of', 'us', 'has', 'issues', 'around', 'them', 'I', 'want', 'to', 'indulge', 'Members', 'to', 'support', 'me', 'because', 'today', 'we', 'are', 'discussing', 'Hon', 'Waluke', 'and', 'tomorrow', 'we', 'might', 'talk', 'about', 'another', 'Member', 'of', 'this', 'House', 'There', 'is', 'a', 'very', 'dangerous', 'trend', 'that', 'is', 'happening', 'in', 'this', 'country', 'I', 'do', 'not', 'understand', 'why', 'Hon', 'Waluke', 'has', 'been', 'jailed', 'for', '70', 'years', 'or', 'pay', 'a', 'fine', 'of', 'Kshs1', 'billion', 'whereas', 'there', 'are', 'other', 'people', 'in', 'this', 'country', 'who', 'have', 'had', 'issues', 'As', 'I', 'speak', 'if', 'you', 'are', 'aligned', 'to', 'a', 'certain', 'side', 'in', 'this', 'country', 'and', 'you', 'have', 'a', 'case', 'in', 'court', 'the', 'case', 'will', 'be', 'withdrawn', 'Mr', 'Chumo', 'the', 'Managing', 'Director', 'of', 'the', 'Kenya', 'Power', 'Company', 'had', 'his', 'case', 'withdrawn', 'The', 'cases', 'of', 'Hon', 'Aisha', 'Jumwa', 'Hon', 'former', 'Governor', 'of', 'Samburu', 'Hon', 'Waititu', 'Zacharia', 'Mbugua', 'and', 'Joyce', 'Ngina', 'among', 'others', 'have', 'been', 'withdrawn', 'I', 'do', 'not', 'understand', 'why', 'Hon', 'Waluke', 'is', 'still', 'facing', 'persecution', 'I', 'also', 'do', 'not', 'understand', 'why', 'Hon', 'Kimunya', 's', 'case', 'has', 'resurfaced', 'from', 'nowhere', 'I', 'want', 'to', 'put', 'a', 'case']\n",
            "length of list--------- 20\n",
            "['Hon', 'Wanami Wamboka (Bumula, DAP-K): Hon', 'Speaker, as Members of this House, we must be concerned when one of us has issues around them', 'I want to indulge Members to support me because today, we are discussing Hon', 'Waluke and tomorrow, we might talk about another Member of this House', 'There is a very dangerous trend that is happening in this country', 'I do not understand why Hon', 'Waluke has been jailed for 70 years or pay a fine of Kshs1 billion whereas there are other people in this country who have had issues', 'As I speak, if you are aligned to a certain side in this country and you have a case in court, the case will be withdrawn', 'Mr', 'Chumo, the Managing Director of the Kenya Power Company, had his case withdrawn', 'The cases of Hon', 'Aisha Jumwa, Hon', 'former Governor of Samburu, Hon', 'Waititu, Zacharia Mbugua and Joyce Ngina among others have been withdrawn', 'I do not understand why Hon', 'Waluke is still facing persecution', 'I also do not understand why Hon', 'Kimunya’s case has resurfaced from nowhere', 'I want to put a case… ']\n"
          ]
        }
      ]
    },
    {
      "cell_type": "markdown",
      "source": [
        "## NLTK \n",
        "Documentation - https://www.nltk.org/\n",
        "\n",
        "It stands for \n",
        "\n",
        "`!pip install nltk` to install the package\n",
        "\n",
        "`import nltk` to import the package"
      ],
      "metadata": {
        "id": "6kVpJKlnop6h"
      }
    },
    {
      "cell_type": "code",
      "source": [
        "import nltk\n",
        "nltk.download('punkt')\n",
        "from nltk.tokenize import word_tokenize,sent_tokenize\n",
        "from nltk.tokenize.punkt import  PunktSentenceTokenizer,PunktParameters\n"
      ],
      "metadata": {
        "id": "2AQm48v8pIpY",
        "colab": {
          "base_uri": "https://localhost:8080/"
        },
        "outputId": "754f2a3e-bc06-411a-ae3d-2dd51c6372c8"
      },
      "execution_count": null,
      "outputs": [
        {
          "output_type": "stream",
          "name": "stderr",
          "text": [
            "[nltk_data] Downloading package punkt to /root/nltk_data...\n",
            "[nltk_data]   Unzipping tokenizers/punkt.zip.\n"
          ]
        }
      ]
    },
    {
      "cell_type": "code",
      "source": [
        "word_token_nltk = word_tokenize(text)\n",
        "print('length of list---------', len(word_token_nltk))\n",
        "print(word_token_nltk)\n",
        "print('****************************')\n",
        "\n",
        "sentence_token_nltk =sent_tokenize(text)\n",
        "print('length of list---------', len(sentence_token))\n",
        "print(sentence_token)\n",
        "print('****************************')"
      ],
      "metadata": {
        "id": "cy-hpQdTkXjX",
        "colab": {
          "base_uri": "https://localhost:8080/"
        },
        "outputId": "e5a01d4c-c410-46b5-fb33-af98564dff9f"
      },
      "execution_count": null,
      "outputs": [
        {
          "output_type": "stream",
          "name": "stdout",
          "text": [
            "length of list--------- 222\n",
            "['Hon', '.', 'Wanami', 'Wamboka', '(', 'Bumula', ',', 'DAP-K', ')', ':', 'Hon', '.', 'Speaker', ',', 'as', 'Members', 'of', 'this', 'House', ',', 'we', 'must', 'be', 'concerned', 'when', 'one', 'of', 'us', 'has', 'issues', 'around', 'them', '.', 'I', 'want', 'to', 'indulge', 'Members', 'to', 'support', 'me', 'because', 'today', ',', 'we', 'are', 'discussing', 'Hon', '.', 'Waluke', 'and', 'tomorrow', ',', 'we', 'might', 'talk', 'about', 'another', 'Member', 'of', 'this', 'House', '.', 'There', 'is', 'a', 'very', 'dangerous', 'trend', 'that', 'is', 'happening', 'in', 'this', 'country', '.', 'I', 'do', 'not', 'understand', 'why', 'Hon', '.', 'Waluke', 'has', 'been', 'jailed', 'for', '70', 'years', 'or', 'pay', 'a', 'fine', 'of', 'Kshs1', 'billion', 'whereas', 'there', 'are', 'other', 'people', 'in', 'this', 'country', 'who', 'have', 'had', 'issues', '.', 'As', 'I', 'speak', ',', 'if', 'you', 'are', 'aligned', 'to', 'a', 'certain', 'side', 'in', 'this', 'country', 'and', 'you', 'have', 'a', 'case', 'in', 'court', ',', 'the', 'case', 'will', 'be', 'withdrawn', '.', 'Mr.', 'Chumo', ',', 'the', 'Managing', 'Director', 'of', 'the', 'Kenya', 'Power', 'Company', ',', 'had', 'his', 'case', 'withdrawn', '.', 'The', 'cases', 'of', 'Hon', '.', 'Aisha', 'Jumwa', ',', 'Hon', '.', 'former', 'Governor', 'of', 'Samburu', ',', 'Hon', '.', 'Waititu', ',', 'Zacharia', 'Mbugua', 'and', 'Joyce', 'Ngina', 'among', 'others', 'have', 'been', 'withdrawn', '!', 'I', 'do', 'not', 'understand', 'why', 'Hon', '.', 'Waluke', 'is', 'still', 'facing', 'persecution', '.', 'I', 'also', 'do', 'not', 'understand', 'why', 'Hon', '.', 'Kimunya', '’', 's', 'case', 'has', 'resurfaced', 'from', 'nowhere', '.', 'I', 'want', 'to', 'put', 'a', 'case…']\n",
            "****************************\n",
            "length of list--------- 19\n",
            "['Hon', 'Wanami Wamboka (Bumula, DAP-K): Hon', 'Speaker, as Members of this House, we must be concerned when one of us has issues around them', 'I want to indulge Members to support me because today, we are discussing Hon', 'Waluke and tomorrow, we might talk about another Member of this House', 'There is a very dangerous trend that is happening in this country', 'I do not understand why Hon', 'Waluke has been jailed for 70 years or pay a fine of Kshs1 billion whereas there are other people in this country who have had issues', 'As I speak, if you are aligned to a certain side in this country and you have a case in court, the case will be withdrawn', 'Mr', 'Chumo, the Managing Director of the Kenya Power Company, had his case withdrawn', 'The cases of Hon', 'Aisha Jumwa, Hon', 'former Governor of Samburu, Hon', 'Waititu, Zacharia Mbugua and Joyce Ngina among others have been withdrawn! I do not understand why Hon', 'Waluke is still facing persecution', 'I also do not understand why Hon', 'Kimunya’s case has resurfaced from nowhere', 'I want to put a case… ']\n",
            "****************************\n"
          ]
        }
      ]
    },
    {
      "cell_type": "code",
      "source": [
        "# Working with abbreviations\n",
        "punkt_param = PunktParameters()\n",
        "abbreviation = ['hon', 'mr']\n",
        "punkt_param.abbrev_types = set(abbreviation)\n",
        "\n",
        "tokenizer = PunktSentenceTokenizer(punkt_param)\n",
        "sentence_token_nltk = tokenizer.tokenize(text)\n",
        "print('length of list---------', len(sentence_token_nltk))\n",
        "print(sentence_token_nltk)\n",
        "print('****************************')"
      ],
      "metadata": {
        "colab": {
          "base_uri": "https://localhost:8080/"
        },
        "id": "S_UpxpimztGu",
        "outputId": "9eed971b-3e13-4440-cfc0-bc9f693bd942"
      },
      "execution_count": null,
      "outputs": [
        {
          "output_type": "stream",
          "name": "stdout",
          "text": [
            "length of list--------- 10\n",
            "['Hon. Wanami Wamboka (Bumula, DAP-K): Hon. Speaker, as Members of this House, we must be concerned when one of us has issues around them.', 'I want to indulge Members to support me because today, we are discussing Hon. Waluke and tomorrow, we might talk about another Member of this House.', 'There is a very dangerous trend that is happening in this country.', 'I do not understand why Hon. Waluke has been jailed for 70 years or pay a fine of Kshs1 billion whereas there are other people in this country who have had issues.', 'As I speak, if you are aligned to a certain side in this country and you have a case in court, the case will be withdrawn.', 'Mr. Chumo, the Managing Director of the Kenya Power Company, had his case withdrawn.', 'The cases of Hon. Aisha Jumwa, Hon. former Governor of Samburu, Hon. Waititu, Zacharia Mbugua and Joyce Ngina among others have been withdrawn!', 'I do not understand why Hon. Waluke is still facing persecution.', 'I also do not understand why Hon. Kimunya’s case has resurfaced from nowhere.', 'I want to put a case…']\n",
            "****************************\n"
          ]
        }
      ]
    },
    {
      "cell_type": "markdown",
      "source": [
        "### Creating your language abbreviations and adding them to the tokenizer\n",
        "You can use this exmaple: https://gist.github.com/ksopyla/f05fe2f48bbc9de895368b8a7863b5c3\n",
        "\n",
        "We can crowd source this to create our own list. This will be used in translation."
      ],
      "metadata": {
        "id": "PXsB93SJ8RHX"
      }
    },
    {
      "cell_type": "markdown",
      "source": [
        "## Gensim\n",
        "Mostly used for topic modelling. Has its own models already trained, has corpus and also utility functions we can use for tokenization.\n",
        "\n",
        "Documentation: https://radimrehurek.com/gensim/index.html\n",
        "\n",
        "`!pip install gensim` for installing the package\n"
      ],
      "metadata": {
        "id": "m7tNPeDl9TbH"
      }
    },
    {
      "cell_type": "code",
      "source": [
        "from gensim.utils import tokenize\n",
        "from gensim.summarization.textcleaner import split_sentences"
      ],
      "metadata": {
        "id": "VW1Sz_yu9SJp"
      },
      "execution_count": null,
      "outputs": []
    },
    {
      "cell_type": "code",
      "source": [
        "word_token_gensim = list(tokenize(text))\n",
        "print('length of list---------', len(word_token_gensim))\n",
        "print(word_token_gensim)\n",
        "print('****************************')\n",
        "\n",
        "sentence_token_gensim = list(split_sentences(text))\n",
        "print('length of list---------', len(sentence_token_gensim))\n",
        "print(sentence_token_gensim)\n",
        "print('****************************')"
      ],
      "metadata": {
        "colab": {
          "base_uri": "https://localhost:8080/"
        },
        "id": "XLDx2aUK8Gf4",
        "outputId": "220dcac7-8b13-4614-9707-6207221d4884"
      },
      "execution_count": null,
      "outputs": [
        {
          "output_type": "stream",
          "name": "stdout",
          "text": [
            "length of list--------- 188\n",
            "['Hon', 'Wanami', 'Wamboka', 'Bumula', 'DAP', 'K', 'Hon', 'Speaker', 'as', 'Members', 'of', 'this', 'House', 'we', 'must', 'be', 'concerned', 'when', 'one', 'of', 'us', 'has', 'issues', 'around', 'them', 'I', 'want', 'to', 'indulge', 'Members', 'to', 'support', 'me', 'because', 'today', 'we', 'are', 'discussing', 'Hon', 'Waluke', 'and', 'tomorrow', 'we', 'might', 'talk', 'about', 'another', 'Member', 'of', 'this', 'House', 'There', 'is', 'a', 'very', 'dangerous', 'trend', 'that', 'is', 'happening', 'in', 'this', 'country', 'I', 'do', 'not', 'understand', 'why', 'Hon', 'Waluke', 'has', 'been', 'jailed', 'for', 'years', 'or', 'pay', 'a', 'fine', 'of', 'Kshs', 'billion', 'whereas', 'there', 'are', 'other', 'people', 'in', 'this', 'country', 'who', 'have', 'had', 'issues', 'As', 'I', 'speak', 'if', 'you', 'are', 'aligned', 'to', 'a', 'certain', 'side', 'in', 'this', 'country', 'and', 'you', 'have', 'a', 'case', 'in', 'court', 'the', 'case', 'will', 'be', 'withdrawn', 'Mr', 'Chumo', 'the', 'Managing', 'Director', 'of', 'the', 'Kenya', 'Power', 'Company', 'had', 'his', 'case', 'withdrawn', 'The', 'cases', 'of', 'Hon', 'Aisha', 'Jumwa', 'Hon', 'former', 'Governor', 'of', 'Samburu', 'Hon', 'Waititu', 'Zacharia', 'Mbugua', 'and', 'Joyce', 'Ngina', 'among', 'others', 'have', 'been', 'withdrawn', 'I', 'do', 'not', 'understand', 'why', 'Hon', 'Waluke', 'is', 'still', 'facing', 'persecution', 'I', 'also', 'do', 'not', 'understand', 'why', 'Hon', 'Kimunya', 's', 'case', 'has', 'resurfaced', 'from', 'nowhere', 'I', 'want', 'to', 'put', 'a', 'case']\n",
            "****************************\n",
            "length of list--------- 10\n",
            "['Hon. Wanami Wamboka (Bumula, DAP-K): Hon. Speaker, as Members of this House, we must be concerned when one of us has issues around them.', 'I want to indulge Members to support me because today, we are discussing Hon. Waluke and tomorrow, we might talk about another Member of this House.', 'There is a very dangerous trend that is happening in this country.', 'I do not understand why Hon. Waluke has been jailed for 70 years or pay a fine of Kshs1 billion whereas there are other people in this country who have had issues.', 'As I speak, if you are aligned to a certain side in this country and you have a case in court, the case will be withdrawn.', 'Mr. Chumo, the Managing Director of the Kenya Power Company, had his case withdrawn.', 'The cases of Hon. Aisha Jumwa, Hon. former Governor of Samburu, Hon. Waititu, Zacharia Mbugua and Joyce Ngina among others have been withdrawn!', 'I do not understand why Hon. Waluke is still facing persecution.', 'I also do not understand why Hon. Kimunya’s case has resurfaced from nowhere.', 'I want to put a case… ']\n",
            "****************************\n"
          ]
        }
      ]
    },
    {
      "cell_type": "markdown",
      "source": [
        "## Spacy\n",
        "This is like the modern version of NLTK. It has most of the tools needed for NLP. It also enables people to contribute tools for their own languages.\n",
        "\n",
        "Documentation: https://spacy.io/usage/linguistic-features#tokenization\n",
        "\n",
        "Since it has multiple languages, you will have to get the vector for that language to proceed\n"
      ],
      "metadata": {
        "id": "oKopaj8cDs3p"
      }
    },
    {
      "cell_type": "code",
      "source": [
        "import spacy\n",
        "from spacy.lang.en import English\n",
        "\n",
        "nlp = spacy.load(\"en_core_web_sm\")"
      ],
      "metadata": {
        "id": "CMLtoXAmHqfl"
      },
      "execution_count": null,
      "outputs": []
    },
    {
      "cell_type": "code",
      "source": [
        "\n",
        "doc = nlp(text)\n",
        "word_token_spacy = []\n",
        "for token in doc:\n",
        "  word_token_spacy.append(token.text)\n",
        "\n",
        "print('length of list---------', len(word_token_spacy))\n",
        "print(word_token_spacy)\n",
        "print('****************************')"
      ],
      "metadata": {
        "colab": {
          "base_uri": "https://localhost:8080/"
        },
        "id": "bt3cJjHUDbei",
        "outputId": "9ca1d140-fffa-4ca3-fc65-1715ee886490"
      },
      "execution_count": null,
      "outputs": [
        {
          "output_type": "stream",
          "name": "stdout",
          "text": [
            "length of list--------- 223\n",
            "['Hon', '.', 'Wanami', 'Wamboka', '(', 'Bumula', ',', 'DAP', '-', 'K', '):', 'Hon', '.', 'Speaker', ',', 'as', 'Members', 'of', 'this', 'House', ',', 'we', 'must', 'be', 'concerned', 'when', 'one', 'of', 'us', 'has', 'issues', 'around', 'them', '.', 'I', 'want', 'to', 'indulge', 'Members', 'to', 'support', 'me', 'because', 'today', ',', 'we', 'are', 'discussing', 'Hon', '.', 'Waluke', 'and', 'tomorrow', ',', 'we', 'might', 'talk', 'about', 'another', 'Member', 'of', 'this', 'House', '.', 'There', 'is', 'a', 'very', 'dangerous', 'trend', 'that', 'is', 'happening', 'in', 'this', 'country', '.', 'I', 'do', 'not', 'understand', 'why', 'Hon', '.', 'Waluke', 'has', 'been', 'jailed', 'for', '70', 'years', 'or', 'pay', 'a', 'fine', 'of', 'Kshs1', 'billion', 'whereas', 'there', 'are', 'other', 'people', 'in', 'this', 'country', 'who', 'have', 'had', 'issues', '.', 'As', 'I', 'speak', ',', 'if', 'you', 'are', 'aligned', 'to', 'a', 'certain', 'side', 'in', 'this', 'country', 'and', 'you', 'have', 'a', 'case', 'in', 'court', ',', 'the', 'case', 'will', 'be', 'withdrawn', '.', 'Mr.', 'Chumo', ',', 'the', 'Managing', 'Director', 'of', 'the', 'Kenya', 'Power', 'Company', ',', 'had', 'his', 'case', 'withdrawn', '.', 'The', 'cases', 'of', 'Hon', '.', 'Aisha', 'Jumwa', ',', 'Hon', '.', 'former', 'Governor', 'of', 'Samburu', ',', 'Hon', '.', 'Waititu', ',', 'Zacharia', 'Mbugua', 'and', 'Joyce', 'Ngina', 'among', 'others', 'have', 'been', 'withdrawn', '!', 'I', 'do', 'not', 'understand', 'why', 'Hon', '.', 'Waluke', 'is', 'still', 'facing', 'persecution', '.', 'I', 'also', 'do', 'not', 'understand', 'why', 'Hon', '.', 'Kimunya', '’s', 'case', 'has', 'resurfaced', 'from', 'nowhere', '.', 'I', 'want', 'to', 'put', 'a', 'case', '…']\n",
            "****************************\n"
          ]
        }
      ]
    },
    {
      "cell_type": "code",
      "source": [
        "sent_doc = nlp(text)\n",
        "\n",
        "sentence_token_spacy = []\n",
        "for token in sent_doc.sents:\n",
        "    sentence_token_spacy.append(token.text)\n",
        "\n",
        "print('length of list---------', len(sentence_token_spacy))\n",
        "print(sentence_token_spacy)\n",
        "print('****************************')\n"
      ],
      "metadata": {
        "colab": {
          "base_uri": "https://localhost:8080/"
        },
        "id": "nJ1uzDdrHNhR",
        "outputId": "2e942a67-6464-4f21-b4cf-d9095b18f691"
      },
      "execution_count": null,
      "outputs": [
        {
          "output_type": "stream",
          "name": "stdout",
          "text": [
            "length of list--------- 17\n",
            "['Hon.', 'Wanami Wamboka (Bumula, DAP-K): Hon. Speaker, as Members of this House, we must be concerned when one of us has issues around them.', 'I want to indulge Members to support me because today, we are discussing Hon.', 'Waluke and tomorrow, we might talk about another Member of this House.', 'There is a very dangerous trend that is happening in this country.', 'I do not understand why Hon.', 'Waluke has been jailed for 70 years or pay a fine of Kshs1 billion whereas there are other people in this country who have had issues.', 'As I speak, if you are aligned to a certain side in this country and you have a case in court, the case will be withdrawn.', 'Mr. Chumo, the Managing Director of the Kenya Power Company, had his case withdrawn.', 'The cases of Hon.', 'Aisha Jumwa, Hon.', 'former Governor of Samburu, Hon. Waititu, Zacharia Mbugua and Joyce Ngina among others have been withdrawn!', 'I do not understand why Hon.', 'Waluke is still facing persecution.', 'I also do not understand why Hon.', 'Kimunya’s case has resurfaced from nowhere.', 'I want to put a case…']\n",
            "****************************\n"
          ]
        }
      ]
    },
    {
      "cell_type": "code",
      "source": [],
      "metadata": {
        "id": "yYbYPK_eGoRa"
      },
      "execution_count": null,
      "outputs": []
    },
    {
      "cell_type": "markdown",
      "source": [
        "## Inclass Practical\n",
        "\n",
        "\n",
        "1.   Figure out how to add abbrevation in spacy\n",
        "2.   Compare all the list and see which are the sentence or words that should not be there\n",
        "3.   Pick the best tokenizer among the 5 and use it on yesterday's cleaned text data (Parlimentary data)\n",
        "\n"
      ],
      "metadata": {
        "id": "jpxAQsnKL4Gh"
      }
    },
    {
      "cell_type": "code",
      "source": [
        "# tokenization of sentences\n",
        "import nltk\n",
        "import spacy"
      ],
      "metadata": {
        "id": "CiEJ-WX4GpWJ"
      },
      "execution_count": 3,
      "outputs": []
    },
    {
      "cell_type": "code",
      "source": [
        "doc=\"\"\"\n",
        "  Based on the extraordinary impact improvements to the healthcare system can have \n",
        "  for so many people and its potential to save lives and money. healthcare has become \n",
        "  a key industry for investment and efforts for AI and machine learning.\n",
        "  Not only have major players such as IBM and Microsoft jumped into their own AI healthcare projects, \n",
        "  but several start-ups and smaller organisations have begun their own efforts to create tools to aid healthcare.\n",
        "\"\"\""
      ],
      "metadata": {
        "id": "S2tXe-6lG1GM"
      },
      "execution_count": 34,
      "outputs": []
    },
    {
      "cell_type": "code",
      "source": [
        "doc_2=\"\"\"\n",
        "  Based on the extraordinary impact improvements to the healthcare system can have \n",
        "  for so many people and its potential to save lives and money. healthcare has become \n",
        "  a key industry for investment and efforts for AI and machine learning.\n",
        "  Not only have major players such as IBM and Microsoft jumped into their own AI healthcare projects, \n",
        "  but several start-ups and smaller organisations have begun their own efforts to create tools to aid healthcare.\n",
        "  Based on the extraordinary impact improvements to the healthcare system can have \n",
        "  for so many people and its potential to save lives and money, healthcare has become \n",
        "  a key industry for investment and efforts for AI and machine learning.\n",
        "\"\"\""
      ],
      "metadata": {
        "id": "T3xzj8cqKZgQ"
      },
      "execution_count": 31,
      "outputs": []
    },
    {
      "cell_type": "code",
      "source": [
        "nltk.download('punkt')"
      ],
      "metadata": {
        "colab": {
          "base_uri": "https://localhost:8080/"
        },
        "id": "W0b467jKJJyn",
        "outputId": "98bc9a7a-0fc0-4530-c06c-e5efcd4d3052"
      },
      "execution_count": 6,
      "outputs": [
        {
          "output_type": "stream",
          "name": "stderr",
          "text": [
            "[nltk_data] Downloading package punkt to /root/nltk_data...\n",
            "[nltk_data]   Unzipping tokenizers/punkt.zip.\n"
          ]
        },
        {
          "output_type": "execute_result",
          "data": {
            "text/plain": [
              "True"
            ]
          },
          "metadata": {},
          "execution_count": 6
        }
      ]
    },
    {
      "cell_type": "code",
      "source": [
        "# sentence tokenization, you have to have puctuations to be able to create sentences \n",
        "# which is different from world tokenization\n",
        "# nltk_tokens= nltk.sent_tokenize(doc)\n",
        "nltk_tokens= nltk.sent_tokenize(doc_2)"
      ],
      "metadata": {
        "id": "ba6mbaf1IZAO"
      },
      "execution_count": 13,
      "outputs": []
    },
    {
      "cell_type": "code",
      "source": [
        "print(nltk_tokens[2])"
      ],
      "metadata": {
        "colab": {
          "base_uri": "https://localhost:8080/"
        },
        "id": "Vk-tXhUvJPPk",
        "outputId": "bde9d98b-cd96-46ab-d901-f00b79e65309"
      },
      "execution_count": 37,
      "outputs": [
        {
          "output_type": "stream",
          "name": "stdout",
          "text": [
            "Based on the extraordinary impact improvements to the healthcare system can have \n",
            "  for so many people and its potential to save lives and money, healthcare has become \n",
            "  a key industry for investment and efforts for AI and machine learning.\n"
          ]
        }
      ]
    },
    {
      "cell_type": "code",
      "source": [
        "word_token= nltk.word_tokenize(doc_2)\n",
        "print(word_token)"
      ],
      "metadata": {
        "colab": {
          "base_uri": "https://localhost:8080/"
        },
        "id": "wfkAZgeMKwN_",
        "outputId": "566a718f-101b-46fa-ac57-5e4507fc88a3"
      },
      "execution_count": 36,
      "outputs": [
        {
          "output_type": "stream",
          "name": "stdout",
          "text": [
            "['Based', 'on', 'the', 'extraordinary', 'impact', 'improvements', 'to', 'the', 'healthcare', 'system', 'can', 'have', 'for', 'so', 'many', 'people', 'and', 'its', 'potential', 'to', 'save', 'lives', 'and', 'money', '.', 'healthcare', 'has', 'become', 'a', 'key', 'industry', 'for', 'investment', 'and', 'efforts', 'for', 'AI', 'and', 'machine', 'learning', '.', 'Not', 'only', 'have', 'major', 'players', 'such', 'as', 'IBM', 'and', 'Microsoft', 'jumped', 'into', 'their', 'own', 'AI', 'healthcare', 'projects', ',', 'but', 'several', 'start-ups', 'and', 'smaller', 'organisations', 'have', 'begun', 'their', 'own', 'efforts', 'to', 'create', 'tools', 'to', 'aid', 'healthcare', '.', 'Based', 'on', 'the', 'extraordinary', 'impact', 'improvements', 'to', 'the', 'healthcare', 'system', 'can', 'have', 'for', 'so', 'many', 'people', 'and', 'its', 'potential', 'to', 'save', 'lives', 'and', 'money', ',', 'healthcare', 'has', 'become', 'a', 'key', 'industry', 'for', 'investment', 'and', 'efforts', 'for', 'AI', 'and', 'machine', 'learning', '.']\n"
          ]
        }
      ]
    },
    {
      "cell_type": "code",
      "source": [
        "len(word_token)"
      ],
      "metadata": {
        "colab": {
          "base_uri": "https://localhost:8080/"
        },
        "id": "yKLpyocHLn64",
        "outputId": "8b48f382-7678-4e96-8344-9b103f2be003"
      },
      "execution_count": 18,
      "outputs": [
        {
          "output_type": "execute_result",
          "data": {
            "text/plain": [
              "118"
            ]
          },
          "metadata": {},
          "execution_count": 18
        }
      ]
    },
    {
      "cell_type": "code",
      "source": [
        "# count all the unique words\n",
        "len(set(word_token))"
      ],
      "metadata": {
        "colab": {
          "base_uri": "https://localhost:8080/"
        },
        "id": "-T2avTaSLAMz",
        "outputId": "8052f828-0f88-4d51-d21f-37489b300c69"
      },
      "execution_count": 19,
      "outputs": [
        {
          "output_type": "execute_result",
          "data": {
            "text/plain": [
              "55"
            ]
          },
          "metadata": {},
          "execution_count": 19
        }
      ]
    },
    {
      "cell_type": "code",
      "source": [
        "# bag of words: a dictionary that has unique words as keys and the value as the number of frequency it appears\n",
        "list(set(word_token)).index('impact')"
      ],
      "metadata": {
        "colab": {
          "base_uri": "https://localhost:8080/"
        },
        "id": "0BqfcF2AMCJU",
        "outputId": "e889ef1b-8b49-47e8-8494-356bbbcf799d"
      },
      "execution_count": 21,
      "outputs": [
        {
          "output_type": "execute_result",
          "data": {
            "text/plain": [
              "28"
            ]
          },
          "metadata": {},
          "execution_count": 21
        }
      ]
    },
    {
      "cell_type": "code",
      "source": [
        "unique_words=list(set(word_token))\n",
        "unique_words"
      ],
      "metadata": {
        "id": "eUeb4TN9NIXk"
      },
      "execution_count": null,
      "outputs": []
    },
    {
      "cell_type": "code",
      "source": [
        "\"\"\"\n",
        "we are going to create a bag of words \n",
        "eg:\n",
        "dict={\n",
        "  'investement':2,\n",
        "  # word as key and frequency as value\n",
        "}\n",
        "\"\"\"\n",
        "\n",
        "b_word={}\n",
        "for word in word_token:\n",
        "  b_word[word]=0\n",
        "b_word"
      ],
      "metadata": {
        "id": "jILjDaksN5qg"
      },
      "execution_count": null,
      "outputs": []
    },
    {
      "cell_type": "code",
      "source": [
        "for word in word_token:\n",
        "  if word in unique_words:\n",
        "    b_word[word]+=1\n",
        "\n",
        "b_word"
      ],
      "metadata": {
        "id": "DNUnWoy-QYi8"
      },
      "execution_count": null,
      "outputs": []
    },
    {
      "cell_type": "code",
      "source": [
        "# features are changing the keys which were words to have its own number\n",
        "features={}\n",
        "for index,word in enumerate(unique_words):\n",
        "   features[word]=index\n",
        "\n",
        "features"
      ],
      "metadata": {
        "id": "AjWtN_DDR3XN"
      },
      "execution_count": null,
      "outputs": []
    },
    {
      "cell_type": "code",
      "source": [
        "b=nltk_tokens[0]"
      ],
      "metadata": {
        "id": "O3dY11kPU7_A"
      },
      "execution_count": 39,
      "outputs": []
    },
    {
      "cell_type": "code",
      "source": [
        "# text=[]\n",
        "# for word in b.split(' '):\n",
        "#   text.replace('\\n',' ').append(features[word])\n",
        "# text"
      ],
      "metadata": {
        "id": "lDo-yUuMYND0"
      },
      "execution_count": null,
      "outputs": []
    },
    {
      "cell_type": "code",
      "source": [
        "import spacy"
      ],
      "metadata": {
        "id": "DaS8lr4vctA-"
      },
      "execution_count": 44,
      "outputs": []
    },
    {
      "cell_type": "code",
      "source": [
        "\n",
        "nlp = spacy.load('en_core_web_sm')\n",
        "doc_3 = nlp('Dr.Rubingisa said that the City of Kigali celebrates this day.Dr. Rubingisa as they encourage everyone to participate in maintaining what has been achieved in terms of cleanliness and climate conservation.He said that plans to expand the car-free zone are ongoing and that it will be finalised by December! these will still include entertainment, be climate friendly and for economic reasons.“We celebrate this day as it is more of promoting both local and international community interest in global urbanisation and cooperation among countries, as well as organisations that have shown interest in transforming cities into reliable and inclusive cities.”')\n",
        "list(doc_3.sents)\n",
        "# add a word infront of every word"
      ],
      "metadata": {
        "colab": {
          "base_uri": "https://localhost:8080/"
        },
        "id": "jbRQTK7mcBTo",
        "outputId": "95be3b1c-afeb-473c-9ec5-fe02495fad0d"
      },
      "execution_count": 49,
      "outputs": [
        {
          "output_type": "execute_result",
          "data": {
            "text/plain": [
              "[Dr.Rubingisa said that the City of Kigali celebrates this day.,\n",
              " Dr. Rubingisa as they encourage everyone to participate in maintaining what has been achieved in terms of cleanliness and climate conservation.,\n",
              " He said that plans to expand the car-free zone are ongoing and that it will be finalised by December!,\n",
              " these will still include entertainment, be climate friendly and for economic reasons.,\n",
              " “We celebrate this day as it is more of promoting both local and international community interest in global urbanisation and cooperation among countries, as well as organisations that have shown interest in transforming cities into reliable and inclusive cities.”]"
            ]
          },
          "metadata": {},
          "execution_count": 49
        }
      ]
    },
    {
      "cell_type": "markdown",
      "source": [
        "## Assignment\n",
        "Create a function that will take text and return word tokens for the Eng-Kin dataset. For Kinyarwanda text remember the abbrevations"
      ],
      "metadata": {
        "id": "-zfWYcb5Nw2-"
      }
    },
    {
      "cell_type": "code",
      "source": [],
      "metadata": {
        "id": "gyo_2wfNJOL-"
      },
      "execution_count": null,
      "outputs": []
    }
  ]
}