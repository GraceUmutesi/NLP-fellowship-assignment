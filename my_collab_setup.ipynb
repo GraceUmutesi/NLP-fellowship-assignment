{
  "nbformat": 4,
  "nbformat_minor": 0,
  "metadata": {
    "colab": {
      "provenance": [],
      "collapsed_sections": [],
      "include_colab_link": true
    },
    "kernelspec": {
      "name": "python3",
      "display_name": "Python 3"
    },
    "language_info": {
      "name": "python"
    },
    "accelerator": "GPU"
  },
  "cells": [
    {
      "cell_type": "markdown",
      "metadata": {
        "id": "view-in-github",
        "colab_type": "text"
      },
      "source": [
        "<a href=\"https://colab.research.google.com/github/GraceUmutesi/NLP-fellowship-assignment/blob/main/my_collab_setup.ipynb\" target=\"_parent\"><img src=\"https://colab.research.google.com/assets/colab-badge.svg\" alt=\"Open In Colab\"/></a>"
      ]
    },
    {
      "cell_type": "code",
      "execution_count": null,
      "metadata": {
        "id": "Ki_8bTPjWjsC"
      },
      "outputs": [],
      "source": [
        "import regex\n"
      ]
    },
    {
      "cell_type": "code",
      "source": [
        "import os\n",
        "\n",
        "print (os.listdir())"
      ],
      "metadata": {
        "colab": {
          "base_uri": "https://localhost:8080/"
        },
        "id": "Y5vL4MlFhEuJ",
        "outputId": "5bb30045-bd9d-4af3-e577-f89df9000907"
      },
      "execution_count": null,
      "outputs": [
        {
          "output_type": "stream",
          "name": "stdout",
          "text": [
            "['.config', 'sample_data']\n"
          ]
        }
      ]
    },
    {
      "cell_type": "code",
      "source": [
        "from google.colab import drive"
      ],
      "metadata": {
        "id": "2oAMxg6BnBuL"
      },
      "execution_count": null,
      "outputs": []
    },
    {
      "cell_type": "code",
      "source": [
        "drive.mount('/content/grace')"
      ],
      "metadata": {
        "colab": {
          "base_uri": "https://localhost:8080/"
        },
        "id": "ypeplkdjnNPV",
        "outputId": "914099d6-4f9b-485a-cb20-3fcae1a633f3"
      },
      "execution_count": null,
      "outputs": [
        {
          "output_type": "stream",
          "name": "stdout",
          "text": [
            "Mounted at /content/grace\n"
          ]
        }
      ]
    },
    {
      "cell_type": "code",
      "source": [
        "with open (\"/content/drive/MyDrive/NLP fellowship/prep practice ALU\") as myfile:\n",
        "  \n",
        "  content=myfile.readlines()\n",
        "# if it is a short file use read()\n",
        "print(content[1])"
      ],
      "metadata": {
        "colab": {
          "base_uri": "https://localhost:8080/"
        },
        "id": "QAkH4Jhfq9jh",
        "outputId": "8b13d463-d7b8-4836-dadb-141da3ac61ff"
      },
      "execution_count": 17,
      "outputs": [
        {
          "output_type": "stream",
          "name": "stdout",
          "text": [
            "\n",
            "\n"
          ]
        }
      ]
    },
    {
      "cell_type": "code",
      "source": [
        "import pandas as pd\n",
        "import cv2\n",
        "\n",
        "image=cv2.imread('/content/drive/MyDrive/NLP fellowship/migration.png')\n",
        "csv_file='/content/common_voice_dataset_rw/partner-2.rw.txt'\n",
        "print(image[3])\n",
        "with open(csv_file) as file:\n",
        "  lines = file.readlines()\n",
        "  # get first line \n",
        "  print(lines[0])\n",
        "df=pd.read_csv(csv_file)\n",
        "df.head\n"
      ],
      "metadata": {
        "id": "0tQkUYSttI0n",
        "colab": {
          "base_uri": "https://localhost:8080/"
        },
        "outputId": "908b58fa-64a6-4ede-d2e6-d4a1d9513f59"
      },
      "execution_count": 19,
      "outputs": [
        {
          "output_type": "stream",
          "name": "stdout",
          "text": [
            "[[247 247 247]\n",
            " [247 247 247]\n",
            " [247 247 247]\n",
            " ...\n",
            " [247 247 247]\n",
            " [247 247 247]\n",
            " [247 247 247]]\n",
            "Ati “Natangiye nta mafaranga mfite uretse ibitabo bike kandi nabyo bishaje\n",
            "\n"
          ]
        },
        {
          "output_type": "execute_result",
          "data": {
            "text/plain": [
              "<bound method NDFrame.head of        Ati “Natangiye nta mafaranga mfite uretse ibitabo bike kandi nabyo bishaje\n",
              "0                      Bizaterwa n’umwanzuro azafata ubwe                        \n",
              "1       badutangarije ko ibi bibazo byose byabagizeho ...                        \n",
              "2                                         Eric yagize ati                        \n",
              "3                avuga ko imyanya yabo itazajya ku masoko                        \n",
              "4       Ati “ Unshyize ku mwanya w’ushinzwe ububiko bw...                        \n",
              "...                                                   ...                        \n",
              "142896  Ikipe ya Guinea Equatorial yatangiye gusatira ...                        \n",
              "142897  kuyishyiraho inzugi n’amadirishya by’ibyuma (m...                        \n",
              "142898  yabijeje ko ubuyobozi bw’Akarere bufatanyije n...                        \n",
              "142899  hategerejwe kkurebwa uzafata iya mbere hagati ...                        \n",
              "142900                          Kuwa Mbere w’iki cyumweru                        \n",
              "\n",
              "[142901 rows x 1 columns]>"
            ]
          },
          "metadata": {},
          "execution_count": 19
        }
      ]
    },
    {
      "cell_type": "markdown",
      "source": [
        "# New Section"
      ],
      "metadata": {
        "id": "4Ua-F8Sp-PKA"
      }
    },
    {
      "cell_type": "code",
      "source": [
        "from google.colab import drive\n",
        "drive.mount('/content/drive')"
      ],
      "metadata": {
        "colab": {
          "base_uri": "https://localhost:8080/"
        },
        "id": "VKU9leny-lpL",
        "outputId": "437ead11-4e75-4cd8-85a1-329c90fd97f5"
      },
      "execution_count": null,
      "outputs": [
        {
          "output_type": "stream",
          "name": "stdout",
          "text": [
            "Mounted at /content/drive\n"
          ]
        }
      ]
    },
    {
      "cell_type": "code",
      "source": [
        "!git clone https://github.com/Digital-Umuganda/common_voice_dataset_rw.git"
      ],
      "metadata": {
        "colab": {
          "base_uri": "https://localhost:8080/"
        },
        "id": "uZsAEE6gwtXk",
        "outputId": "6f3f585e-a15e-4e2d-e202-fbb9316346c8"
      },
      "execution_count": null,
      "outputs": [
        {
          "output_type": "stream",
          "name": "stdout",
          "text": [
            "Cloning into 'common_voice_dataset_rw'...\n",
            "remote: Enumerating objects: 46, done.\u001b[K\n",
            "remote: Total 46 (delta 0), reused 0 (delta 0), pack-reused 46\u001b[K\n",
            "Unpacking objects: 100% (46/46), done.\n"
          ]
        }
      ]
    }
  ]
}